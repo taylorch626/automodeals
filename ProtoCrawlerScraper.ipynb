{
 "cells": [
  {
   "cell_type": "code",
   "execution_count": null,
   "metadata": {},
   "outputs": [],
   "source": [
    "from bs4 import BeautifulSoup\n",
    "import requests\n",
    "import re"
   ]
  },
  {
   "cell_type": "code",
   "execution_count": null,
   "metadata": {},
   "outputs": [],
   "source": [
    "# Example of working live html parser without crawler block and user-agent spoof\n",
    "\n",
    "# url = \"http://www.python.org\"\n",
    "# resp = requests.get(url)\n",
    "# html = resp.content\n",
    "# print(html)"
   ]
  },
  {
   "cell_type": "code",
   "execution_count": null,
   "metadata": {},
   "outputs": [],
   "source": [
    "### Working example for a single KSL search results page\n",
    "\n",
    "# Define root url for KSL cars\n",
    "rooturl = \"https://cars.ksl.com\"\n",
    "\n",
    "# Note the url below specifies that we're looking for 96 per page and the default sort of newest to oldest posting\n",
    "# This note about newest to oldest is useful so that we can avoid scraping repeat listings based on their timestamps\n",
    "url = \"https://cars.ksl.com/search/newUsed/Used;Certified/perPage/96/page/0\"\n",
    "\n",
    "# Need to spoof a user-agent in order to get past crawler block\n",
    "user_agent = 'Mozilla/5.0 (Windows NT 10.0; Win64; x64) AppleWebKit/537.36 (KHTML, like Gecko) Chrome/79.0.3945.130 Safari/537.36'\n",
    "\n",
    "# Note: The above user_agent might need to be rotated (along with IP) to avoid IP ban\n",
    "# Example found on https://www.scrapehero.com/how-to-fake-and-rotate-user-agents-using-python-3/\n",
    "\n",
    "# Open live page (as opposed to downloaded)\n",
    "resp = requests.get(url, headers = {'User-Agent': user_agent})\n",
    "html = resp.content\n",
    "pgsoup = BeautifulSoup(html)\n",
    "lastpg = int(pgsoup.find(attrs={\"title\": \"Go to last page\"}).text.strip()) # Note that this is 1 more than number from href for this page\n",
    "print(f'Total number of search results pages: {lastpg}')\n",
    "# print('*********************')\n",
    "# print()\n",
    "# print(pgsoup)\n",
    "\n",
    "print()\n",
    "\n",
    "links = pgsoup.select(\"div.title > a.link\") # grab all 96 (or up to 96) links\n",
    "print(f'Total number of links found on current page: {len(links)}')\n",
    "tstamps = pgsoup.select(\"div.listing-detail-line script\") # grab all 96 (or up to 96) timestamps\n",
    "print(f'Total number of timestamps found on current page: {len(tstamps)}')\n",
    "\n",
    "print()\n",
    "\n",
    "# for tstamp in tstamps:\n",
    "#     print(int(re.search('(\\d+)',tstamp.text).group(0))) # <-- This is WORKING code to extract timestamp for each listing from search page\n",
    "# print()\n",
    "\n",
    "maxresults = 15\n",
    "print(f'Limiting Subsequent Listing Results to {maxresults}')\n",
    "print()\n",
    "\n",
    "# Loop through links and scrape data for each new listing\n",
    "for link in links[:maxresults]: # *** only load first x results for now to avoid ban before implementing spoofing\n",
    "    # We're going to want to strip the \"?ad_cid=[number]\" from the end of these links as they're not needed to load the page properly\n",
    "    # Regular expressions should come in handy here\n",
    "    \n",
    "    cutidx = re.search('(\\?ad_cid=.+)',link['href']).start()\n",
    "    currlink = link['href'][:cutidx]\n",
    "       \n",
    "    # Somewhere here we should do a check to make sure that the timestamp for currlink is newer than our newest file in our repository\n",
    "    # That is, compare the timestamps with a simple conditional, where if the conditional is not met, this loop breaks to avoid useless computation time\n",
    "    \n",
    "    # Open listing link and pull html from it\n",
    "    fulllink = '/'.join([rooturl.rstrip('/'), currlink.lstrip('/')])\n",
    "    \n",
    "    resp = requests.get(fulllink, headers = {'User-Agent': user_agent})\n",
    "    lsthtml = resp.content\n",
    "    lstsoup = BeautifulSoup(lsthtml)\n",
    "    \n",
    "    name = lstsoup.select('h1.title > div')[0].text.strip() # not really useful for the project, likely, but just for this working example\n",
    "    price = lstsoup.select('h3.price')[0].text.strip()\n",
    "    \n",
    "    print(f'Name: {name}\\nPrice: {price}')\n",
    "    print()\n",
    "    \n",
    "    specs = lstsoup.select('ul.listing-specifications')\n",
    "    \n",
    "    # The above specs are going to need to hacky scraping to tease out values such as year, make, model, etc.\n",
    "    "
   ]
  }
 ],
 "metadata": {
  "kernelspec": {
   "display_name": "Python 3",
   "language": "python",
   "name": "python3"
  },
  "language_info": {
   "codemirror_mode": {
    "name": "ipython",
    "version": 3
   },
   "file_extension": ".py",
   "mimetype": "text/x-python",
   "name": "python",
   "nbconvert_exporter": "python",
   "pygments_lexer": "ipython3",
   "version": "3.7.4"
  },
  "varInspector": {
   "cols": {
    "lenName": 16,
    "lenType": 16,
    "lenVar": 40
   },
   "kernels_config": {
    "python": {
     "delete_cmd_postfix": "",
     "delete_cmd_prefix": "del ",
     "library": "var_list.py",
     "varRefreshCmd": "print(var_dic_list())"
    },
    "r": {
     "delete_cmd_postfix": ") ",
     "delete_cmd_prefix": "rm(",
     "library": "var_list.r",
     "varRefreshCmd": "cat(var_dic_list()) "
    }
   },
   "types_to_exclude": [
    "module",
    "function",
    "builtin_function_or_method",
    "instance",
    "_Feature"
   ],
   "window_display": false
  }
 },
 "nbformat": 4,
 "nbformat_minor": 2
}
