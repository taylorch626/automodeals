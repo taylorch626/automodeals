{
 "cells": [
  {
   "cell_type": "markdown",
   "metadata": {},
   "source": [
    "## To Do:\n",
    "* Rotate through user-agents and IPs\n",
    "* Keep a database or dictionary of IP:user-agent combos to avoid using different user-agents for the same IP?\n",
    "* Consider expanding IP list to include limited countries outside US\n",
    "* Figure out how to use API for getting user-agents (to avoid IP ban)\n",
    "* Make sure newer cars are added at top of repository such that timestamps are _roughly_ in order\n",
    "* Get page views (after certain time period?)\n",
    "* Get number of times listing has been favorited?\n",
    "* Limit results to just those with a picture?\n",
    "* Get count of number of pictures?\n",
    "* Handle cases when no new cars are found\n",
    "* What do we do when there's a broken link?"
   ]
  },
  {
   "cell_type": "code",
   "execution_count": 1,
   "metadata": {},
   "outputs": [],
   "source": [
    "from bs4 import BeautifulSoup # if this isn't installed, use pip install beautifulsoup4\n",
    "import requests\n",
    "import re\n",
    "import pandas as pd\n",
    "import numpy as np\n",
    "from datetime import datetime\n",
    "import time\n",
    "import progressbar # if this isn't installed, use pip install progressbar2\n",
    "import random\n",
    "import json"
   ]
  },
  {
   "cell_type": "code",
   "execution_count": null,
   "metadata": {},
   "outputs": [],
   "source": [
    "# Get list of proxy IPs\n",
    "\n",
    "IPurl = \"https://free-proxy-list.net\"\n",
    "\n",
    "resp = requests.get(IPurl)\n",
    "IPhtml = resp.content\n",
    "IPsoup = BeautifulSoup(IPhtml)\n",
    "\n",
    "proxies = []\n",
    "for tr in IPsoup.find(id='proxylisttable').find('tbody').find_all('tr'):\n",
    "    tds = tr.find_all('td')\n",
    "    if (tds[2].text.strip() == 'US') & (tds[6].text.strip() == 'yes') & (tds[4].text.strip() != 'transparent'):\n",
    "        proxies.append(''.join(['http://', ':'.join([tds[0].text.strip(), tds[1].text.strip()])])) # grab the IP addresses matching the above criteria\n",
    "random.shuffle(proxies)\n",
    "proxies"
   ]
  },
  {
   "cell_type": "code",
   "execution_count": null,
   "metadata": {},
   "outputs": [],
   "source": [
    "# Get list of US-based proxy IPs\n",
    "\n",
    "IPurl = \"https://www.us-proxy.org/\" # <-- the robots.txt file for this site allows full access for all user-agents\n",
    "\n",
    "resp = requests.get(IPurl)\n",
    "IPhtml = resp.content\n",
    "IPsoup = BeautifulSoup(IPhtml)\n",
    "\n",
    "proxies = []\n"
   ]
  },
  {
   "cell_type": "code",
   "execution_count": null,
   "metadata": {},
   "outputs": [],
   "source": [
    "# Get list of user-agents\n",
    "\n",
    "### Need to use API at some point rather than crawl/scrape since you can get 500 user-agents for free per month...and my IP got banned\n",
    "### username: automodeals\n",
    "### pw: kslclass123\n",
    "### API documentation: https://developers.whatismybrowser.com/api/docs/v2/\n",
    "\n",
    "API_key = '5ecab60888f7aebfbc4aad5850de52fa'\n",
    "\n",
    "UAurl = \"https://developers.whatismybrowser.com/useragents/explore/software_name/chrome/\"\n",
    "\n",
    "resp = requests.get(UAurl)\n",
    "UAhtml = resp.content\n",
    "UAsoup = BeautifulSoup(UAhtml)\n",
    "\n",
    "UAlist = []\n",
    "matches = UAsoup.select(\"table.table-useragents td.useragent\")\n",
    "for match in matches[:len(proxies)]: # only get as many user-agents are there are proxies. Dangerous to use more than one user-agent per IP\n",
    "    UAlist.append(match.find('a').text.strip())\n",
    "random.shuffle(UAlist)\n",
    "UAlist"
   ]
  },
  {
   "cell_type": "code",
   "execution_count": null,
   "metadata": {},
   "outputs": [],
   "source": [
    "# Use user-agents API (example from https://github.com/whatismybrowser/api-v2-sample-code/blob/master/sample-code/python-3.6/user_agent_parse.py)\n",
    "\n",
    "API_key = '5ecab60888f7aebfbc4aad5850de52fa'\n",
    "\n",
    "headers = {'X-API-KEY': API_key}\n",
    "# UAurl = \"https://api.whatismybrowser.com/api/v2/user_agent_database_dump_url\"\n",
    "# UAurl = \"https://api.whatismybrowser.com/api/v2/user_agent_database_search\"\n",
    "\n",
    "# The code below works for POSTing data, but we want to GET data\n",
    "\n",
    "UAurl = \"https://api.whatismybrowser.com/api/v2/user_agent_parse\"\n",
    "\n",
    "post_data = {\n",
    "    \"user_agent\": \"Mozilla/5.0 (Macintosh; Intel Mac OS X 10_9_5) AppleWebKit/537.36 (KHTML, like Gecko) Chrome/63.0.3282.167 Safari/537.36\",\n",
    "}\n",
    "\n",
    "result = requests.post(UAurl, data=json.dumps(post_data), headers=headers)\n",
    "result # if result is 200, then success!\n",
    "result.json()"
   ]
  },
  {
   "cell_type": "code",
   "execution_count": null,
   "metadata": {},
   "outputs": [],
   "source": [
    "# Experiment with using proxy IPs from above\n",
    "\n",
    "# url = \"https://cars.ksl.com/search/newUsed/Used;Certified/perPage/96/page/0\"\n",
    "url = \"https://httpbin.org/ip\"\n",
    "\n",
    "user_agent = 'Mozilla/5.0 (Windows NT 10.0; Win64; x64) AppleWebKit/537.36 (KHTML, like Gecko) Chrome/74.0.3729.169 Safari/537.36'\n",
    "\n",
    "for idx, proxy in enumerate(proxies):\n",
    "#     user_agent = UAlist[idx]\n",
    "    try:\n",
    "        resp = requests.get(url,proxies={\"http\":proxy, \"https\":proxy},headers={'User-Agent': user_agent})\n",
    "#         print(resp.content)\n",
    "        print(f'Success! proxy used: {proxy}')\n",
    "    except:\n",
    "        print('Proxy error')"
   ]
  },
  {
   "cell_type": "code",
   "execution_count": 2,
   "metadata": {},
   "outputs": [],
   "source": [
    "# Make a function for the scraping done for each search page\n",
    "def carscraper(url, rooturl, maxts):\n",
    "    # url should be of the form \"https://cars.ksl.com/search/newUsed/Used;Certified/perPage/96/page/0\"\n",
    "    # rooturl should be something like \"https://cars.ksl.com\"\n",
    "    # maxts is the maximum timestamp of the all_cars repository\n",
    "    \n",
    "    # Need to spoof a user-agent in order to get past crawler block\n",
    "    user_agent = 'Mozilla/5.0 (Windows NT 10.0; Win64; x64) AppleWebKit/537.36 (KHTML, like Gecko) Chrome/79.0.3945.130 Safari/537.36'\n",
    "\n",
    "    resp = requests.get(url, headers = {'User-Agent': user_agent})\n",
    "    html = resp.content\n",
    "    pgsoup = BeautifulSoup(html)\n",
    "    \n",
    "    # Check if there are additional pages of results\n",
    "    if pgsoup.find(\"a\", {\"title\" : \"Go forward 1 page\"}):\n",
    "        moreresults = 1\n",
    "    else:\n",
    "        moreresults = 0\n",
    "    \n",
    "    links = pgsoup.select(\"div.title > a.link\") # grab all 96 (or up to 96) links\n",
    "    tstamps = pgsoup.select(\"div.listing-detail-line script\") # grab all 96 (or up to 96) timestamps\n",
    "\n",
    "    # Loop through links and scrape data for each new listing\n",
    "    all_cars = []\n",
    "    with progressbar.ProgressBar(max_value=len(links)) as bar:\n",
    "        for idx, link in enumerate(links): # *** only load first x results for now to avoid ban before implementing spoofing\n",
    "\n",
    "            # Reset all fields to None before next loop\n",
    "            price=year=make=model=body=mileage=title_type=city=state=seller=None\n",
    "            trim=ext_color=int_color=transmission=liters=cylinders=fuel_type=num_doors=ext_condition=int_condition=drive_type=None\n",
    "\n",
    "            # We're going to want to strip the \"?ad_cid=[number]\" from the end of these links as they're not needed to load the page properly\n",
    "            # Regular expressions should come in handy here\n",
    "\n",
    "            cutidx = re.search('(\\?ad_cid=.+)',link['href']).start()\n",
    "            currlink = link['href'][:cutidx]\n",
    "\n",
    "            # Somewhere here we should do a check to make sure that the timestamp for currlink is newer than our newest file in our repository\n",
    "            # That is, compare the timestamps with a simple conditional, where if the conditional is not met, this loop breaks to avoid useless computation time\n",
    "\n",
    "            # Open listing link and pull html from it\n",
    "            fulllink = '/'.join([rooturl.rstrip('/'), currlink.lstrip('/')])\n",
    "\n",
    "            resp = requests.get(fulllink, headers = {'User-Agent': user_agent})\n",
    "            lsthtml = resp.content\n",
    "            lstsoup = BeautifulSoup(lsthtml)\n",
    "            \n",
    "            # Check if link is still good (i.e. listing is still active)\n",
    "            if lstsoup.title.text.strip().lower() == 'not found':\n",
    "                print('Bad link. Skipping...')\n",
    "                bar.update(idx)\n",
    "            else:\n",
    "\n",
    "                # Get listing price\n",
    "                price = lstsoup.select('h3.price')[0].text.strip().replace('$','').replace(',','')\n",
    "\n",
    "                # Get seller's location\n",
    "                location = lstsoup.select('h2.location > a')[0].text.strip()\n",
    "                city, state = location.split(',')\n",
    "                city = city.strip()\n",
    "                state = state.strip()\n",
    "\n",
    "                # Get seller type (dealer or owner)\n",
    "                sellerstr = lstsoup.select('div.fsbo')[0].text.strip()\n",
    "                if re.search('(Dealer)', sellerstr):\n",
    "                    seller = 'Dealer'\n",
    "                elif re.search('(Owner)', sellerstr):\n",
    "                    seller = 'Owner'\n",
    "\n",
    "                # Get timestamp\n",
    "                tstamp = int(re.search('(\\d+)',tstamps[idx].text).group(0))\n",
    "\n",
    "                # Check if timestamp is newer than maxts\n",
    "                if tstamp <= maxts:\n",
    "                    print('************ Found end of new data ************')\n",
    "#                     print(f'var type of all_cars is: {type(all_cars)}')\n",
    "                    moreresults = 0\n",
    "                    break\n",
    "#                 else:\n",
    "#                     print(f'New car found: {idx} in link {fulllink}')\n",
    "\n",
    "                # Get table of car specs\n",
    "                specs = lstsoup.select('ul.listing-specifications')\n",
    "\n",
    "                for li in specs[0].find_all('li'):\n",
    "                    lititle = li.select('span.title')[0].text.strip().strip(':')\n",
    "                    livalue = li.select('span.value')[0].text.strip().strip(':')\n",
    "\n",
    "                    if livalue.lower() == 'not specified':\n",
    "                        livalue = None\n",
    "\n",
    "                    # Now a bunch of if-else statements to determine which column to add data to\n",
    "                    # There might be a more sophisticated way to do this, perhaps with a tuple or a dictionary?\n",
    "                    if lititle.lower() == 'year':\n",
    "                        if livalue:\n",
    "                            year = int(livalue)\n",
    "                        else:\n",
    "                            year = livalue\n",
    "                    elif lititle.lower() == 'make':\n",
    "                        make = livalue\n",
    "                    elif lititle.lower() == 'model':\n",
    "                        model = livalue\n",
    "                    elif lititle.lower() == 'body':\n",
    "                        body = livalue\n",
    "                    elif lititle.lower() == 'mileage':\n",
    "                        if livalue:\n",
    "                            mileage = int(livalue.replace(',',''))\n",
    "                        else:\n",
    "                            mileage = livalue\n",
    "                    elif lititle.lower() == 'title type':\n",
    "                        title_type = livalue\n",
    "\n",
    "                    # Below this are non-required specs    \n",
    "                    elif lititle.lower() == 'trim':\n",
    "                        trim = livalue\n",
    "                    elif lititle.lower() == 'exterior color':\n",
    "                        if livalue:\n",
    "                            ext_color = livalue.lower()\n",
    "                        else:\n",
    "                            ext_color = livalue\n",
    "                    elif lititle.lower() == 'interior color':\n",
    "                        if livalue:\n",
    "                            int_color = livalue.lower()\n",
    "                        else:\n",
    "                            int_color = livalue\n",
    "                    elif lititle.lower() == 'transmission':\n",
    "                        transmission = livalue\n",
    "                    elif lititle.lower() == 'liters':\n",
    "                        try:\n",
    "                            liters = float(livalue)\n",
    "                        except:\n",
    "                            if livalue:\n",
    "                                str1 = re.search('^(.*?)L',livalue).group(0).strip().replace(' ','')\n",
    "                                if re.search('^(\\D+)',str1):\n",
    "                                    idxend = re.search('^(\\D+)',str1).end()\n",
    "                                    livalue = str1[idxend:-1]\n",
    "                                else:\n",
    "                                    livalue = str1[:-1]\n",
    "                                try:\n",
    "                                    livalue = float(livalue)\n",
    "                                except:\n",
    "                                    print(url)\n",
    "                                    print('****')\n",
    "                                    print(link)\n",
    "                            else:\n",
    "                                liters = livalue\n",
    "                    elif lititle.lower() == 'cylinders':\n",
    "                        if livalue:\n",
    "                            cylinders = int(livalue)\n",
    "                        else:\n",
    "                            cylinders = livalue\n",
    "                    elif lititle.lower() == 'fuel type':\n",
    "                        fuel_type = livalue\n",
    "                    elif lititle.lower() == 'number of doors':\n",
    "                        if livalue:\n",
    "                            num_doors = int(livalue)\n",
    "                        else:\n",
    "                            num_doors = livalue\n",
    "                    elif lititle.lower() == 'exterior condition':\n",
    "                        ext_condition = livalue\n",
    "                    elif lititle.lower() == 'interior condition':\n",
    "                        int_condition = livalue\n",
    "                    elif lititle.lower() == 'drive type':\n",
    "                        drive_type = livalue\n",
    "                    elif (lititle.lower() == 'vin') | (lititle.lower() == 'stock number') | (lititle.lower() == 'dealer license'):\n",
    "                        None # Don't want to save these\n",
    "                    else:\n",
    "                        None\n",
    "                        print(f'Unmatched param {lititle}: {livalue}') # <-- could take advantage of some or all of these\n",
    "\n",
    "                curr_car = pd.DataFrame({\"timestamp\":[tstamp],\n",
    "                                         \"price\":[price],\n",
    "                                         \"year\":[year],\n",
    "                                         \"make\":[make],\n",
    "                                         \"model\":[model],\n",
    "                                         \"body\":[body],\n",
    "                                         \"mileage\":[mileage],\n",
    "                                         \"title_type\":[title_type],\n",
    "                                         \"city\":[city],\n",
    "                                         \"state\":[state],\n",
    "                                         \"seller\":[seller],\n",
    "                                         \"trim\":[trim],\n",
    "                                         \"ext_color\":[ext_color],\n",
    "                                         \"int_color\":[int_color],\n",
    "                                         \"transmission\":[transmission],\n",
    "                                         \"liters\":[liters],\n",
    "                                         \"cylinders\":[cylinders],\n",
    "                                         \"fuel_type\":[fuel_type],\n",
    "                                         \"num_doors\":[num_doors],\n",
    "                                         \"ext_condition\":[ext_condition],\n",
    "                                         \"int_condition\":[int_condition],\n",
    "                                         \"drive_type\":[drive_type]})\n",
    "                try:\n",
    "                    all_cars = pd.concat([all_cars, curr_car])\n",
    "                except:\n",
    "                    all_cars = curr_car\n",
    "\n",
    "                bar.update(idx)\n",
    "\n",
    "    if type(all_cars) is pd.core.frame.DataFrame: # make sure that some data was actually scraped\n",
    "        all_cars = all_cars.reset_index()\n",
    "        del all_cars['index']\n",
    "        all_cars.fillna(value=pd.np.nan, inplace=True)\n",
    "    return all_cars, moreresults"
   ]
  },
  {
   "cell_type": "code",
   "execution_count": 3,
   "metadata": {},
   "outputs": [
    {
     "name": "stderr",
     "output_type": "stream",
     "text": [
      "\r",
      "N/A% (0 of 96) |                         | Elapsed Time: 0:00:00 ETA:  --:--:--"
     ]
    },
    {
     "name": "stdout",
     "output_type": "stream",
     "text": [
      "New car found: 0 in link https://cars.ksl.com/listing/6304315\n"
     ]
    },
    {
     "name": "stderr",
     "output_type": "stream",
     "text": [
      "\r",
      "  1% (1 of 96) |                         | Elapsed Time: 0:00:00 ETA:   0:01:06"
     ]
    },
    {
     "name": "stdout",
     "output_type": "stream",
     "text": [
      "New car found: 1 in link https://cars.ksl.com/listing/6187638\n"
     ]
    },
    {
     "name": "stderr",
     "output_type": "stream",
     "text": [
      "\r",
      "  2% (2 of 96) |                         | Elapsed Time: 0:00:02 ETA:   0:01:51"
     ]
    },
    {
     "name": "stdout",
     "output_type": "stream",
     "text": [
      "New car found: 2 in link https://cars.ksl.com/listing/6304249\n"
     ]
    },
    {
     "name": "stderr",
     "output_type": "stream",
     "text": [
      "\r",
      "  3% (3 of 96) |                         | Elapsed Time: 0:00:05 ETA:   0:04:14"
     ]
    },
    {
     "name": "stdout",
     "output_type": "stream",
     "text": [
      "New car found: 3 in link https://cars.ksl.com/listing/6172464\n"
     ]
    },
    {
     "name": "stderr",
     "output_type": "stream",
     "text": [
      "\r",
      "  4% (4 of 96) |#                        | Elapsed Time: 0:00:05 ETA:   0:02:36"
     ]
    },
    {
     "name": "stdout",
     "output_type": "stream",
     "text": [
      "New car found: 4 in link https://cars.ksl.com/listing/6304306\n"
     ]
    },
    {
     "name": "stderr",
     "output_type": "stream",
     "text": [
      "\r",
      "  5% (5 of 96) |#                        | Elapsed Time: 0:00:07 ETA:   0:01:55"
     ]
    },
    {
     "name": "stdout",
     "output_type": "stream",
     "text": [
      "New car found: 5 in link https://cars.ksl.com/listing/6172462\n"
     ]
    },
    {
     "name": "stderr",
     "output_type": "stream",
     "text": [
      "\r",
      "  6% (6 of 96) |#                        | Elapsed Time: 0:00:08 ETA:   0:02:01"
     ]
    },
    {
     "name": "stdout",
     "output_type": "stream",
     "text": [
      "New car found: 6 in link https://cars.ksl.com/listing/6187634\n"
     ]
    },
    {
     "name": "stderr",
     "output_type": "stream",
     "text": [
      "\r",
      "  7% (7 of 96) |#                        | Elapsed Time: 0:00:10 ETA:   0:01:51"
     ]
    },
    {
     "name": "stdout",
     "output_type": "stream",
     "text": [
      "New car found: 7 in link https://cars.ksl.com/listing/6285417\n"
     ]
    },
    {
     "name": "stderr",
     "output_type": "stream",
     "text": [
      "\r",
      "  8% (8 of 96) |##                       | Elapsed Time: 0:00:10 ETA:   0:01:43"
     ]
    },
    {
     "name": "stdout",
     "output_type": "stream",
     "text": [
      "New car found: 8 in link https://cars.ksl.com/listing/6119936\n"
     ]
    },
    {
     "name": "stderr",
     "output_type": "stream",
     "text": [
      "\r",
      "  9% (9 of 96) |##                       | Elapsed Time: 0:00:11 ETA:   0:01:27"
     ]
    },
    {
     "name": "stdout",
     "output_type": "stream",
     "text": [
      "New car found: 9 in link https://cars.ksl.com/listing/6304302\n"
     ]
    },
    {
     "name": "stderr",
     "output_type": "stream",
     "text": [
      "\r",
      " 10% (10 of 96) |##                      | Elapsed Time: 0:00:12 ETA:   0:01:01"
     ]
    },
    {
     "name": "stdout",
     "output_type": "stream",
     "text": [
      "New car found: 10 in link https://cars.ksl.com/listing/6172442\n"
     ]
    },
    {
     "name": "stderr",
     "output_type": "stream",
     "text": [
      "\r",
      " 11% (11 of 96) |##                      | Elapsed Time: 0:00:13 ETA:   0:01:07"
     ]
    },
    {
     "name": "stdout",
     "output_type": "stream",
     "text": [
      "New car found: 11 in link https://cars.ksl.com/listing/6119935\n"
     ]
    },
    {
     "name": "stderr",
     "output_type": "stream",
     "text": [
      "\r",
      " 12% (12 of 96) |###                     | Elapsed Time: 0:00:13 ETA:   0:01:07"
     ]
    },
    {
     "name": "stdout",
     "output_type": "stream",
     "text": [
      "New car found: 12 in link https://cars.ksl.com/listing/6304300\n"
     ]
    },
    {
     "name": "stderr",
     "output_type": "stream",
     "text": [
      "\r",
      " 13% (13 of 96) |###                     | Elapsed Time: 0:00:16 ETA:   0:03:58"
     ]
    },
    {
     "name": "stdout",
     "output_type": "stream",
     "text": [
      "New car found: 13 in link https://cars.ksl.com/listing/6285415\n"
     ]
    },
    {
     "name": "stderr",
     "output_type": "stream",
     "text": [
      "\r",
      " 14% (14 of 96) |###                     | Elapsed Time: 0:00:17 ETA:   0:02:24"
     ]
    },
    {
     "name": "stdout",
     "output_type": "stream",
     "text": [
      "New car found: 14 in link https://cars.ksl.com/listing/6285354\n"
     ]
    },
    {
     "name": "stderr",
     "output_type": "stream",
     "text": [
      "\r",
      " 15% (15 of 96) |###                     | Elapsed Time: 0:00:18 ETA:   0:01:53"
     ]
    },
    {
     "name": "stdout",
     "output_type": "stream",
     "text": [
      "New car found: 15 in link https://cars.ksl.com/listing/6187627\n"
     ]
    },
    {
     "name": "stderr",
     "output_type": "stream",
     "text": [
      "\r",
      " 16% (16 of 96) |####                    | Elapsed Time: 0:00:19 ETA:   0:01:35"
     ]
    },
    {
     "name": "stdout",
     "output_type": "stream",
     "text": [
      "New car found: 16 in link https://cars.ksl.com/listing/6157787\n"
     ]
    },
    {
     "name": "stderr",
     "output_type": "stream",
     "text": [
      "\r",
      " 17% (17 of 96) |####                    | Elapsed Time: 0:00:21 ETA:   0:02:25"
     ]
    },
    {
     "name": "stdout",
     "output_type": "stream",
     "text": [
      "New car found: 17 in link https://cars.ksl.com/listing/6172435\n"
     ]
    },
    {
     "name": "stderr",
     "output_type": "stream",
     "text": [
      "\r",
      " 18% (18 of 96) |####                    | Elapsed Time: 0:00:22 ETA:   0:01:52"
     ]
    },
    {
     "name": "stdout",
     "output_type": "stream",
     "text": [
      "New car found: 18 in link https://cars.ksl.com/listing/6295947\n"
     ]
    },
    {
     "name": "stderr",
     "output_type": "stream",
     "text": [
      "\r",
      " 19% (19 of 96) |####                    | Elapsed Time: 0:00:23 ETA:   0:01:30"
     ]
    },
    {
     "name": "stdout",
     "output_type": "stream",
     "text": [
      "New car found: 19 in link https://cars.ksl.com/listing/6216182\n"
     ]
    },
    {
     "name": "stderr",
     "output_type": "stream",
     "text": [
      "\r",
      " 20% (20 of 96) |#####                   | Elapsed Time: 0:00:24 ETA:   0:00:56"
     ]
    },
    {
     "name": "stdout",
     "output_type": "stream",
     "text": [
      "New car found: 20 in link https://cars.ksl.com/listing/6154855\n"
     ]
    },
    {
     "name": "stderr",
     "output_type": "stream",
     "text": [
      "\r",
      " 21% (21 of 96) |#####                   | Elapsed Time: 0:00:25 ETA:   0:01:30"
     ]
    },
    {
     "name": "stdout",
     "output_type": "stream",
     "text": [
      "New car found: 21 in link https://cars.ksl.com/listing/6219733\n"
     ]
    },
    {
     "name": "stderr",
     "output_type": "stream",
     "text": [
      "\r",
      " 22% (22 of 96) |#####                   | Elapsed Time: 0:00:26 ETA:   0:01:28"
     ]
    },
    {
     "name": "stdout",
     "output_type": "stream",
     "text": [
      "New car found: 22 in link https://cars.ksl.com/listing/6304299\n"
     ]
    },
    {
     "name": "stderr",
     "output_type": "stream",
     "text": [
      "\r",
      " 23% (23 of 96) |#####                   | Elapsed Time: 0:00:29 ETA:   0:03:22"
     ]
    },
    {
     "name": "stdout",
     "output_type": "stream",
     "text": [
      "New car found: 23 in link https://cars.ksl.com/listing/6232253\n"
     ]
    },
    {
     "name": "stderr",
     "output_type": "stream",
     "text": [
      "\r",
      " 25% (24 of 96) |######                  | Elapsed Time: 0:00:30 ETA:   0:02:10"
     ]
    },
    {
     "name": "stdout",
     "output_type": "stream",
     "text": [
      "New car found: 24 in link https://cars.ksl.com/listing/6172833\n"
     ]
    },
    {
     "name": "stderr",
     "output_type": "stream",
     "text": [
      "\r",
      " 26% (25 of 96) |######                  | Elapsed Time: 0:00:30 ETA:   0:01:44"
     ]
    },
    {
     "name": "stdout",
     "output_type": "stream",
     "text": [
      "New car found: 25 in link https://cars.ksl.com/listing/6172832\n"
     ]
    },
    {
     "name": "stderr",
     "output_type": "stream",
     "text": [
      "\r",
      " 27% (26 of 96) |######                  | Elapsed Time: 0:00:31 ETA:   0:00:54"
     ]
    },
    {
     "name": "stdout",
     "output_type": "stream",
     "text": [
      "New car found: 26 in link https://cars.ksl.com/listing/6218402\n"
     ]
    },
    {
     "name": "stderr",
     "output_type": "stream",
     "text": [
      "\r",
      " 28% (27 of 96) |######                  | Elapsed Time: 0:00:32 ETA:   0:00:46"
     ]
    },
    {
     "name": "stdout",
     "output_type": "stream",
     "text": [
      "New car found: 27 in link https://cars.ksl.com/listing/6304296\n"
     ]
    },
    {
     "name": "stderr",
     "output_type": "stream",
     "text": [
      "\r",
      " 29% (28 of 96) |#######                 | Elapsed Time: 0:00:33 ETA:   0:01:19"
     ]
    },
    {
     "name": "stdout",
     "output_type": "stream",
     "text": [
      "New car found: 28 in link https://cars.ksl.com/listing/6304295\n"
     ]
    },
    {
     "name": "stderr",
     "output_type": "stream",
     "text": [
      "\r",
      " 30% (29 of 96) |#######                 | Elapsed Time: 0:00:35 ETA:   0:01:59"
     ]
    },
    {
     "name": "stdout",
     "output_type": "stream",
     "text": [
      "New car found: 29 in link https://cars.ksl.com/listing/6187618\n"
     ]
    },
    {
     "name": "stderr",
     "output_type": "stream",
     "text": [
      "\r",
      " 31% (30 of 96) |#######                 | Elapsed Time: 0:00:37 ETA:   0:01:59"
     ]
    },
    {
     "name": "stdout",
     "output_type": "stream",
     "text": [
      "New car found: 30 in link https://cars.ksl.com/listing/6267965\n"
     ]
    },
    {
     "name": "stderr",
     "output_type": "stream",
     "text": [
      "\r",
      " 32% (31 of 96) |#######                 | Elapsed Time: 0:00:38 ETA:   0:01:22"
     ]
    },
    {
     "name": "stdout",
     "output_type": "stream",
     "text": [
      "New car found: 31 in link https://cars.ksl.com/listing/6267964\n"
     ]
    },
    {
     "name": "stderr",
     "output_type": "stream",
     "text": [
      "\r",
      " 33% (32 of 96) |########                | Elapsed Time: 0:00:39 ETA:   0:01:17"
     ]
    },
    {
     "name": "stdout",
     "output_type": "stream",
     "text": [
      "New car found: 32 in link https://cars.ksl.com/listing/6267962\n"
     ]
    },
    {
     "name": "stderr",
     "output_type": "stream",
     "text": [
      "\r",
      " 34% (33 of 96) |########                | Elapsed Time: 0:00:40 ETA:   0:01:11"
     ]
    },
    {
     "name": "stdout",
     "output_type": "stream",
     "text": [
      "New car found: 33 in link https://cars.ksl.com/listing/6304294\n"
     ]
    },
    {
     "name": "stderr",
     "output_type": "stream",
     "text": [
      "\r",
      " 35% (34 of 96) |########                | Elapsed Time: 0:00:42 ETA:   0:01:15"
     ]
    },
    {
     "name": "stdout",
     "output_type": "stream",
     "text": [
      "New car found: 34 in link https://cars.ksl.com/listing/6267963\n"
     ]
    },
    {
     "name": "stderr",
     "output_type": "stream",
     "text": [
      "\r",
      " 36% (35 of 96) |########                | Elapsed Time: 0:00:43 ETA:   0:01:19"
     ]
    },
    {
     "name": "stdout",
     "output_type": "stream",
     "text": [
      "New car found: 35 in link https://cars.ksl.com/listing/6267960\n"
     ]
    },
    {
     "name": "stderr",
     "output_type": "stream",
     "text": [
      "\r",
      " 37% (36 of 96) |#########               | Elapsed Time: 0:00:43 ETA:   0:01:10"
     ]
    },
    {
     "name": "stdout",
     "output_type": "stream",
     "text": [
      "New car found: 36 in link https://cars.ksl.com/listing/6119298\n"
     ]
    },
    {
     "name": "stderr",
     "output_type": "stream",
     "text": [
      "\r",
      " 38% (37 of 96) |#########               | Elapsed Time: 0:00:46 ETA:   0:02:41"
     ]
    },
    {
     "name": "stdout",
     "output_type": "stream",
     "text": [
      "New car found: 37 in link https://cars.ksl.com/listing/6157756\n"
     ]
    },
    {
     "name": "stderr",
     "output_type": "stream",
     "text": [
      "\r",
      " 39% (38 of 96) |#########               | Elapsed Time: 0:00:47 ETA:   0:01:43"
     ]
    },
    {
     "name": "stdout",
     "output_type": "stream",
     "text": [
      "New car found: 38 in link https://cars.ksl.com/listing/6172419\n"
     ]
    },
    {
     "name": "stderr",
     "output_type": "stream",
     "text": [
      "\r",
      " 40% (39 of 96) |#########               | Elapsed Time: 0:00:48 ETA:   0:01:19"
     ]
    },
    {
     "name": "stdout",
     "output_type": "stream",
     "text": [
      "New car found: 39 in link https://cars.ksl.com/listing/6304293\n"
     ]
    },
    {
     "name": "stderr",
     "output_type": "stream",
     "text": [
      "\r",
      " 41% (40 of 96) |##########              | Elapsed Time: 0:00:49 ETA:   0:01:06"
     ]
    },
    {
     "name": "stdout",
     "output_type": "stream",
     "text": [
      "New car found: 40 in link https://cars.ksl.com/listing/6218399\n"
     ]
    },
    {
     "name": "stderr",
     "output_type": "stream",
     "text": [
      "\r",
      " 42% (41 of 96) |##########              | Elapsed Time: 0:00:51 ETA:   0:01:35"
     ]
    },
    {
     "name": "stdout",
     "output_type": "stream",
     "text": [
      "New car found: 41 in link https://cars.ksl.com/listing/6187612\n"
     ]
    },
    {
     "name": "stderr",
     "output_type": "stream",
     "text": [
      "\r",
      " 43% (42 of 96) |##########              | Elapsed Time: 0:00:52 ETA:   0:01:05"
     ]
    },
    {
     "name": "stdout",
     "output_type": "stream",
     "text": [
      "New car found: 42 in link https://cars.ksl.com/listing/6157755\n"
     ]
    },
    {
     "name": "stderr",
     "output_type": "stream",
     "text": [
      "\r",
      " 44% (43 of 96) |##########              | Elapsed Time: 0:00:53 ETA:   0:00:54"
     ]
    },
    {
     "name": "stdout",
     "output_type": "stream",
     "text": [
      "New car found: 43 in link https://cars.ksl.com/listing/6187609\n"
     ]
    },
    {
     "name": "stderr",
     "output_type": "stream",
     "text": [
      "\r",
      " 45% (44 of 96) |###########             | Elapsed Time: 0:00:53 ETA:   0:00:38"
     ]
    },
    {
     "name": "stdout",
     "output_type": "stream",
     "text": [
      "New car found: 44 in link https://cars.ksl.com/listing/6172416\n"
     ]
    },
    {
     "name": "stderr",
     "output_type": "stream",
     "text": [
      "\r",
      " 46% (45 of 96) |###########             | Elapsed Time: 0:00:54 ETA:   0:00:36"
     ]
    },
    {
     "name": "stdout",
     "output_type": "stream",
     "text": [
      "New car found: 45 in link https://cars.ksl.com/listing/6304289\n"
     ]
    },
    {
     "name": "stderr",
     "output_type": "stream",
     "text": [
      "\r",
      " 47% (46 of 96) |###########             | Elapsed Time: 0:00:56 ETA:   0:00:57"
     ]
    },
    {
     "name": "stdout",
     "output_type": "stream",
     "text": [
      "New car found: 46 in link https://cars.ksl.com/listing/6208472\n"
     ]
    },
    {
     "name": "stderr",
     "output_type": "stream",
     "text": [
      "\r",
      " 48% (47 of 96) |###########             | Elapsed Time: 0:00:58 ETA:   0:01:27"
     ]
    },
    {
     "name": "stdout",
     "output_type": "stream",
     "text": [
      "New car found: 47 in link https://cars.ksl.com/listing/6157754\n"
     ]
    },
    {
     "name": "stderr",
     "output_type": "stream",
     "text": [
      "\r",
      " 50% (48 of 96) |############            | Elapsed Time: 0:00:58 ETA:   0:01:00"
     ]
    },
    {
     "name": "stdout",
     "output_type": "stream",
     "text": [
      "New car found: 48 in link https://cars.ksl.com/listing/6187607\n"
     ]
    },
    {
     "name": "stderr",
     "output_type": "stream",
     "text": [
      "\r",
      " 51% (49 of 96) |############            | Elapsed Time: 0:00:59 ETA:   0:00:49"
     ]
    },
    {
     "name": "stdout",
     "output_type": "stream",
     "text": [
      "New car found: 49 in link https://cars.ksl.com/listing/6172413\n"
     ]
    },
    {
     "name": "stderr",
     "output_type": "stream",
     "text": [
      "\r",
      " 52% (50 of 96) |############            | Elapsed Time: 0:01:00 ETA:   0:00:32"
     ]
    },
    {
     "name": "stdout",
     "output_type": "stream",
     "text": [
      "New car found: 50 in link https://cars.ksl.com/listing/6187606\n"
     ]
    },
    {
     "name": "stderr",
     "output_type": "stream",
     "text": [
      "\r",
      " 53% (51 of 96) |############            | Elapsed Time: 0:01:00 ETA:   0:00:30"
     ]
    },
    {
     "name": "stdout",
     "output_type": "stream",
     "text": [
      "New car found: 51 in link https://cars.ksl.com/listing/6172412\n"
     ]
    },
    {
     "name": "stderr",
     "output_type": "stream",
     "text": [
      "\r",
      " 54% (52 of 96) |#############           | Elapsed Time: 0:01:01 ETA:   0:00:30"
     ]
    },
    {
     "name": "stdout",
     "output_type": "stream",
     "text": [
      "New car found: 52 in link https://cars.ksl.com/listing/6119295\n"
     ]
    },
    {
     "name": "stderr",
     "output_type": "stream",
     "text": [
      "\r",
      " 55% (53 of 96) |#############           | Elapsed Time: 0:01:03 ETA:   0:00:49"
     ]
    },
    {
     "name": "stdout",
     "output_type": "stream",
     "text": [
      "New car found: 53 in link https://cars.ksl.com/listing/6208471\n"
     ]
    },
    {
     "name": "stderr",
     "output_type": "stream",
     "text": [
      "\r",
      " 56% (54 of 96) |#############           | Elapsed Time: 0:01:04 ETA:   0:01:14"
     ]
    },
    {
     "name": "stdout",
     "output_type": "stream",
     "text": [
      "New car found: 54 in link https://cars.ksl.com/listing/6088715\n"
     ]
    },
    {
     "name": "stderr",
     "output_type": "stream",
     "text": [
      "\r",
      " 57% (55 of 96) |#############           | Elapsed Time: 0:01:05 ETA:   0:00:56"
     ]
    },
    {
     "name": "stdout",
     "output_type": "stream",
     "text": [
      "New car found: 55 in link https://cars.ksl.com/listing/6285084\n"
     ]
    },
    {
     "name": "stderr",
     "output_type": "stream",
     "text": [
      "\r",
      " 58% (56 of 96) |##############          | Elapsed Time: 0:01:06 ETA:   0:00:46"
     ]
    },
    {
     "name": "stdout",
     "output_type": "stream",
     "text": [
      "New car found: 56 in link https://cars.ksl.com/listing/6157753\n"
     ]
    },
    {
     "name": "stderr",
     "output_type": "stream",
     "text": [
      "\r",
      " 59% (57 of 96) |##############          | Elapsed Time: 0:01:07 ETA:   0:00:29"
     ]
    },
    {
     "name": "stdout",
     "output_type": "stream",
     "text": [
      "New car found: 57 in link https://cars.ksl.com/listing/6266615\n"
     ]
    },
    {
     "name": "stderr",
     "output_type": "stream",
     "text": [
      "\r",
      " 60% (58 of 96) |##############          | Elapsed Time: 0:01:08 ETA:   0:00:45"
     ]
    },
    {
     "name": "stdout",
     "output_type": "stream",
     "text": [
      "New car found: 58 in link https://cars.ksl.com/listing/6304287\n"
     ]
    },
    {
     "name": "stderr",
     "output_type": "stream",
     "text": [
      "\r",
      " 61% (59 of 96) |##############          | Elapsed Time: 0:01:09 ETA:   0:00:43"
     ]
    },
    {
     "name": "stdout",
     "output_type": "stream",
     "text": [
      "New car found: 59 in link https://cars.ksl.com/listing/6267955\n"
     ]
    },
    {
     "name": "stderr",
     "output_type": "stream",
     "text": [
      "\r",
      " 62% (60 of 96) |###############         | Elapsed Time: 0:01:10 ETA:   0:00:36"
     ]
    },
    {
     "name": "stdout",
     "output_type": "stream",
     "text": [
      "New car found: 60 in link https://cars.ksl.com/listing/6267953\n"
     ]
    },
    {
     "name": "stderr",
     "output_type": "stream",
     "text": [
      "\r",
      " 63% (61 of 96) |###############         | Elapsed Time: 0:01:10 ETA:   0:00:23"
     ]
    },
    {
     "name": "stdout",
     "output_type": "stream",
     "text": [
      "New car found: 61 in link https://cars.ksl.com/listing/6304284\n"
     ]
    },
    {
     "name": "stderr",
     "output_type": "stream",
     "text": [
      "\r",
      " 64% (62 of 96) |###############         | Elapsed Time: 0:01:11 ETA:   0:00:23"
     ]
    },
    {
     "name": "stdout",
     "output_type": "stream",
     "text": [
      "New car found: 62 in link https://cars.ksl.com/listing/6267954\n"
     ]
    },
    {
     "name": "stderr",
     "output_type": "stream",
     "text": [
      "\r",
      " 65% (63 of 96) |###############         | Elapsed Time: 0:01:13 ETA:   0:00:41"
     ]
    },
    {
     "name": "stdout",
     "output_type": "stream",
     "text": [
      "New car found: 63 in link https://cars.ksl.com/listing/6088714\n"
     ]
    },
    {
     "name": "stderr",
     "output_type": "stream",
     "text": [
      "\r",
      " 66% (64 of 96) |################        | Elapsed Time: 0:01:14 ETA:   0:00:40"
     ]
    },
    {
     "name": "stdout",
     "output_type": "stream",
     "text": [
      "New car found: 64 in link https://cars.ksl.com/listing/6103830\n"
     ]
    },
    {
     "name": "stderr",
     "output_type": "stream",
     "text": [
      "\r",
      " 67% (65 of 96) |################        | Elapsed Time: 0:01:15 ETA:   0:00:37"
     ]
    },
    {
     "name": "stdout",
     "output_type": "stream",
     "text": [
      "New car found: 65 in link https://cars.ksl.com/listing/6267951\n"
     ]
    },
    {
     "name": "stderr",
     "output_type": "stream",
     "text": [
      "\r",
      " 68% (66 of 96) |################        | Elapsed Time: 0:01:16 ETA:   0:00:36"
     ]
    },
    {
     "name": "stdout",
     "output_type": "stream",
     "text": [
      "New car found: 66 in link https://cars.ksl.com/listing/6172407\n"
     ]
    },
    {
     "name": "stderr",
     "output_type": "stream",
     "text": [
      "\r",
      " 69% (67 of 96) |################        | Elapsed Time: 0:01:17 ETA:   0:00:30"
     ]
    },
    {
     "name": "stdout",
     "output_type": "stream",
     "text": [
      "New car found: 67 in link https://cars.ksl.com/listing/6187597\n"
     ]
    },
    {
     "name": "stderr",
     "output_type": "stream",
     "text": [
      "\r",
      " 70% (68 of 96) |#################       | Elapsed Time: 0:01:19 ETA:   0:00:34"
     ]
    },
    {
     "name": "stdout",
     "output_type": "stream",
     "text": [
      "New car found: 68 in link https://cars.ksl.com/listing/6203437\n"
     ]
    },
    {
     "name": "stderr",
     "output_type": "stream",
     "text": [
      "\r",
      " 71% (69 of 96) |#################       | Elapsed Time: 0:01:19 ETA:   0:00:32"
     ]
    },
    {
     "name": "stdout",
     "output_type": "stream",
     "text": [
      "New car found: 69 in link https://cars.ksl.com/listing/6157750\n"
     ]
    },
    {
     "name": "stderr",
     "output_type": "stream",
     "text": [
      "\r",
      " 72% (70 of 96) |#################       | Elapsed Time: 0:01:20 ETA:   0:00:27"
     ]
    },
    {
     "name": "stdout",
     "output_type": "stream",
     "text": [
      "New car found: 70 in link https://cars.ksl.com/listing/6119293\n"
     ]
    },
    {
     "name": "stderr",
     "output_type": "stream",
     "text": [
      "\r",
      " 73% (71 of 96) |#################       | Elapsed Time: 0:01:21 ETA:   0:00:19"
     ]
    },
    {
     "name": "stdout",
     "output_type": "stream",
     "text": [
      "New car found: 71 in link https://cars.ksl.com/listing/6187591\n"
     ]
    },
    {
     "name": "stderr",
     "output_type": "stream",
     "text": [
      "\r",
      " 75% (72 of 96) |##################      | Elapsed Time: 0:01:22 ETA:   0:00:18"
     ]
    },
    {
     "name": "stdout",
     "output_type": "stream",
     "text": [
      "New car found: 72 in link https://cars.ksl.com/listing/6285388\n"
     ]
    },
    {
     "name": "stderr",
     "output_type": "stream",
     "text": [
      "\r",
      " 76% (73 of 96) |##################      | Elapsed Time: 0:01:22 ETA:   0:00:17"
     ]
    },
    {
     "name": "stdout",
     "output_type": "stream",
     "text": [
      "New car found: 73 in link https://cars.ksl.com/listing/6157744\n"
     ]
    },
    {
     "name": "stderr",
     "output_type": "stream",
     "text": [
      "\r",
      " 77% (74 of 96) |##################      | Elapsed Time: 0:01:24 ETA:   0:00:27"
     ]
    },
    {
     "name": "stdout",
     "output_type": "stream",
     "text": [
      "New car found: 74 in link https://cars.ksl.com/listing/6172401\n"
     ]
    },
    {
     "name": "stderr",
     "output_type": "stream",
     "text": [
      "\r",
      " 78% (75 of 96) |##################      | Elapsed Time: 0:01:26 ETA:   0:00:36"
     ]
    },
    {
     "name": "stdout",
     "output_type": "stream",
     "text": [
      "New car found: 75 in link https://cars.ksl.com/listing/6187587\n"
     ]
    },
    {
     "name": "stderr",
     "output_type": "stream",
     "text": [
      "\r",
      " 79% (76 of 96) |###################     | Elapsed Time: 0:01:27 ETA:   0:00:24"
     ]
    },
    {
     "name": "stdout",
     "output_type": "stream",
     "text": [
      "New car found: 76 in link https://cars.ksl.com/listing/6187584\n"
     ]
    },
    {
     "name": "stderr",
     "output_type": "stream",
     "text": [
      "\r",
      " 80% (77 of 96) |###################     | Elapsed Time: 0:01:28 ETA:   0:00:21"
     ]
    },
    {
     "name": "stdout",
     "output_type": "stream",
     "text": [
      "New car found: 77 in link https://cars.ksl.com/listing/6304279\n"
     ]
    },
    {
     "name": "stderr",
     "output_type": "stream",
     "text": [
      "\r",
      " 81% (78 of 96) |###################     | Elapsed Time: 0:01:29 ETA:   0:00:19"
     ]
    },
    {
     "name": "stdout",
     "output_type": "stream",
     "text": [
      "New car found: 78 in link https://cars.ksl.com/listing/6304278\n"
     ]
    },
    {
     "name": "stderr",
     "output_type": "stream",
     "text": [
      "\r",
      " 82% (79 of 96) |###################     | Elapsed Time: 0:01:30 ETA:   0:00:19"
     ]
    },
    {
     "name": "stdout",
     "output_type": "stream",
     "text": [
      "New car found: 79 in link https://cars.ksl.com/listing/6304277\n"
     ]
    },
    {
     "name": "stderr",
     "output_type": "stream",
     "text": [
      "\r",
      " 83% (80 of 96) |####################    | Elapsed Time: 0:01:33 ETA:   0:00:35"
     ]
    },
    {
     "name": "stdout",
     "output_type": "stream",
     "text": [
      "New car found: 80 in link https://cars.ksl.com/listing/5361979\n"
     ]
    },
    {
     "name": "stderr",
     "output_type": "stream",
     "text": [
      "\r",
      " 84% (81 of 96) |####################    | Elapsed Time: 0:01:34 ETA:   0:00:29"
     ]
    },
    {
     "name": "stdout",
     "output_type": "stream",
     "text": [
      "New car found: 81 in link https://cars.ksl.com/listing/6172394\n"
     ]
    },
    {
     "name": "stderr",
     "output_type": "stream",
     "text": [
      "\r",
      " 85% (82 of 96) |####################    | Elapsed Time: 0:01:35 ETA:   0:00:16"
     ]
    },
    {
     "name": "stdout",
     "output_type": "stream",
     "text": [
      "New car found: 82 in link https://cars.ksl.com/listing/6187582\n"
     ]
    },
    {
     "name": "stderr",
     "output_type": "stream",
     "text": [
      "\r",
      " 86% (83 of 96) |####################    | Elapsed Time: 0:01:36 ETA:   0:00:13"
     ]
    },
    {
     "name": "stdout",
     "output_type": "stream",
     "text": [
      "New car found: 83 in link https://cars.ksl.com/listing/6172392\n"
     ]
    },
    {
     "name": "stderr",
     "output_type": "stream",
     "text": [
      "\r",
      " 87% (84 of 96) |#####################   | Elapsed Time: 0:01:37 ETA:   0:00:14"
     ]
    },
    {
     "name": "stdout",
     "output_type": "stream",
     "text": [
      "New car found: 84 in link https://cars.ksl.com/listing/6119907\n"
     ]
    },
    {
     "name": "stderr",
     "output_type": "stream",
     "text": [
      "\r",
      " 88% (85 of 96) |#####################   | Elapsed Time: 0:01:40 ETA:   0:00:24"
     ]
    },
    {
     "name": "stdout",
     "output_type": "stream",
     "text": [
      "New car found: 85 in link https://cars.ksl.com/listing/6285383\n"
     ]
    },
    {
     "name": "stderr",
     "output_type": "stream",
     "text": [
      "\r",
      " 89% (86 of 96) |#####################   | Elapsed Time: 0:01:42 ETA:   0:00:20"
     ]
    },
    {
     "name": "stdout",
     "output_type": "stream",
     "text": [
      "New car found: 86 in link https://cars.ksl.com/listing/6285382\n"
     ]
    },
    {
     "name": "stderr",
     "output_type": "stream",
     "text": [
      "\r",
      " 90% (87 of 96) |#####################   | Elapsed Time: 0:01:42 ETA:   0:00:11"
     ]
    },
    {
     "name": "stdout",
     "output_type": "stream",
     "text": [
      "New car found: 87 in link https://cars.ksl.com/listing/6304276\n"
     ]
    },
    {
     "name": "stderr",
     "output_type": "stream",
     "text": [
      "\r",
      " 91% (88 of 96) |######################  | Elapsed Time: 0:01:43 ETA:   0:00:08"
     ]
    },
    {
     "name": "stdout",
     "output_type": "stream",
     "text": [
      "New car found: 88 in link https://cars.ksl.com/listing/6119906\n"
     ]
    },
    {
     "name": "stderr",
     "output_type": "stream",
     "text": [
      "\r",
      " 92% (89 of 96) |######################  | Elapsed Time: 0:01:45 ETA:   0:00:08"
     ]
    },
    {
     "name": "stdout",
     "output_type": "stream",
     "text": [
      "New car found: 89 in link https://cars.ksl.com/listing/6304275\n"
     ]
    },
    {
     "name": "stderr",
     "output_type": "stream",
     "text": [
      "\r",
      " 93% (90 of 96) |######################  | Elapsed Time: 0:01:47 ETA:   0:00:10"
     ]
    },
    {
     "name": "stdout",
     "output_type": "stream",
     "text": [
      "New car found: 90 in link https://cars.ksl.com/listing/6203427\n"
     ]
    },
    {
     "name": "stderr",
     "output_type": "stream",
     "text": [
      "\r",
      " 94% (91 of 96) |######################  | Elapsed Time: 0:01:47 ETA:   0:00:06"
     ]
    },
    {
     "name": "stdout",
     "output_type": "stream",
     "text": [
      "New car found: 91 in link https://cars.ksl.com/listing/6119905\n"
     ]
    },
    {
     "name": "stderr",
     "output_type": "stream",
     "text": [
      "\r",
      " 95% (92 of 96) |####################### | Elapsed Time: 0:01:48 ETA:   0:00:04"
     ]
    },
    {
     "name": "stdout",
     "output_type": "stream",
     "text": [
      "New car found: 92 in link https://cars.ksl.com/listing/6187577\n"
     ]
    },
    {
     "name": "stderr",
     "output_type": "stream",
     "text": [
      "\r",
      " 96% (93 of 96) |####################### | Elapsed Time: 0:01:49 ETA:   0:00:02"
     ]
    },
    {
     "name": "stdout",
     "output_type": "stream",
     "text": [
      "New car found: 93 in link https://cars.ksl.com/listing/6304274\n"
     ]
    },
    {
     "name": "stderr",
     "output_type": "stream",
     "text": [
      "\r",
      " 97% (94 of 96) |####################### | Elapsed Time: 0:01:51 ETA:   0:00:05"
     ]
    },
    {
     "name": "stdout",
     "output_type": "stream",
     "text": [
      "New car found: 94 in link https://cars.ksl.com/listing/6304273\n"
     ]
    },
    {
     "name": "stderr",
     "output_type": "stream",
     "text": [
      "100% (96 of 96) |########################| Elapsed Time: 0:01:54 Time:  0:01:54\n"
     ]
    },
    {
     "name": "stdout",
     "output_type": "stream",
     "text": [
      "New car found: 95 in link https://cars.ksl.com/listing/6119903\n",
      "More results? 1\n"
     ]
    },
    {
     "name": "stderr",
     "output_type": "stream",
     "text": [
      "\r",
      "N/A% (0 of 96) |                         | Elapsed Time: 0:00:00 ETA:  --:--:--"
     ]
    },
    {
     "name": "stdout",
     "output_type": "stream",
     "text": [
      "New car found: 0 in link https://cars.ksl.com/listing/6172394\n"
     ]
    },
    {
     "name": "stderr",
     "output_type": "stream",
     "text": [
      "\r",
      "  1% (1 of 96) |                         | Elapsed Time: 0:00:02 ETA:   0:03:15"
     ]
    },
    {
     "name": "stdout",
     "output_type": "stream",
     "text": [
      "New car found: 1 in link https://cars.ksl.com/listing/6187582\n"
     ]
    },
    {
     "name": "stderr",
     "output_type": "stream",
     "text": [
      "\r",
      "  2% (2 of 96) |                         | Elapsed Time: 0:00:02 ETA:   0:02:07"
     ]
    },
    {
     "name": "stdout",
     "output_type": "stream",
     "text": [
      "New car found: 2 in link https://cars.ksl.com/listing/6172392\n"
     ]
    },
    {
     "name": "stderr",
     "output_type": "stream",
     "text": [
      "\r",
      "  3% (3 of 96) |                         | Elapsed Time: 0:00:03 ETA:   0:01:38"
     ]
    },
    {
     "name": "stdout",
     "output_type": "stream",
     "text": [
      "New car found: 3 in link https://cars.ksl.com/listing/6119907\n"
     ]
    },
    {
     "name": "stderr",
     "output_type": "stream",
     "text": [
      "\r",
      "  4% (4 of 96) |#                        | Elapsed Time: 0:00:04 ETA:   0:01:03"
     ]
    },
    {
     "name": "stdout",
     "output_type": "stream",
     "text": [
      "New car found: 4 in link https://cars.ksl.com/listing/6285383\n"
     ]
    },
    {
     "name": "stderr",
     "output_type": "stream",
     "text": [
      "\r",
      "  5% (5 of 96) |#                        | Elapsed Time: 0:00:05 ETA:   0:01:59"
     ]
    },
    {
     "name": "stdout",
     "output_type": "stream",
     "text": [
      "New car found: 5 in link https://cars.ksl.com/listing/6285382\n"
     ]
    },
    {
     "name": "stderr",
     "output_type": "stream",
     "text": [
      "\r",
      "  6% (6 of 96) |#                        | Elapsed Time: 0:00:06 ETA:   0:01:44"
     ]
    },
    {
     "name": "stdout",
     "output_type": "stream",
     "text": [
      "New car found: 6 in link https://cars.ksl.com/listing/6304276\n"
     ]
    },
    {
     "name": "stderr",
     "output_type": "stream",
     "text": [
      "\r",
      "  7% (7 of 96) |#                        | Elapsed Time: 0:00:07 ETA:   0:01:29"
     ]
    },
    {
     "name": "stdout",
     "output_type": "stream",
     "text": [
      "New car found: 7 in link https://cars.ksl.com/listing/6119906\n"
     ]
    },
    {
     "name": "stderr",
     "output_type": "stream",
     "text": [
      "\r",
      "  8% (8 of 96) |##                       | Elapsed Time: 0:00:07 ETA:   0:01:20"
     ]
    },
    {
     "name": "stdout",
     "output_type": "stream",
     "text": [
      "New car found: 8 in link https://cars.ksl.com/listing/6304275\n"
     ]
    },
    {
     "name": "stderr",
     "output_type": "stream",
     "text": [
      "\r",
      "  9% (9 of 96) |##                       | Elapsed Time: 0:00:08 ETA:   0:00:59"
     ]
    },
    {
     "name": "stdout",
     "output_type": "stream",
     "text": [
      "New car found: 9 in link https://cars.ksl.com/listing/6203427\n"
     ]
    },
    {
     "name": "stderr",
     "output_type": "stream",
     "text": [
      "\r",
      " 10% (10 of 96) |##                      | Elapsed Time: 0:00:09 ETA:   0:00:57"
     ]
    },
    {
     "name": "stdout",
     "output_type": "stream",
     "text": [
      "New car found: 10 in link https://cars.ksl.com/listing/6119905\n"
     ]
    },
    {
     "name": "stderr",
     "output_type": "stream",
     "text": [
      "\r",
      " 11% (11 of 96) |##                      | Elapsed Time: 0:00:09 ETA:   0:00:58"
     ]
    },
    {
     "name": "stdout",
     "output_type": "stream",
     "text": [
      "New car found: 11 in link https://cars.ksl.com/listing/6187577\n"
     ]
    },
    {
     "name": "stderr",
     "output_type": "stream",
     "text": [
      "\r",
      " 12% (12 of 96) |###                     | Elapsed Time: 0:00:10 ETA:   0:00:57"
     ]
    },
    {
     "name": "stdout",
     "output_type": "stream",
     "text": [
      "New car found: 12 in link https://cars.ksl.com/listing/6304274\n"
     ]
    },
    {
     "name": "stderr",
     "output_type": "stream",
     "text": [
      "\r",
      " 13% (13 of 96) |###                     | Elapsed Time: 0:00:11 ETA:   0:01:02"
     ]
    },
    {
     "name": "stdout",
     "output_type": "stream",
     "text": [
      "New car found: 13 in link https://cars.ksl.com/listing/6304273\n"
     ]
    },
    {
     "name": "stderr",
     "output_type": "stream",
     "text": [
      "\r",
      " 14% (14 of 96) |###                     | Elapsed Time: 0:00:12 ETA:   0:01:06"
     ]
    },
    {
     "name": "stdout",
     "output_type": "stream",
     "text": [
      "New car found: 14 in link https://cars.ksl.com/listing/6119903\n"
     ]
    },
    {
     "name": "stderr",
     "output_type": "stream",
     "text": [
      "\r",
      " 15% (15 of 96) |###                     | Elapsed Time: 0:00:13 ETA:   0:01:10"
     ]
    },
    {
     "name": "stdout",
     "output_type": "stream",
     "text": [
      "New car found: 15 in link https://cars.ksl.com/listing/6187572\n"
     ]
    },
    {
     "name": "stderr",
     "output_type": "stream",
     "text": [
      "\r",
      " 16% (16 of 96) |####                    | Elapsed Time: 0:00:14 ETA:   0:01:47"
     ]
    },
    {
     "name": "stdout",
     "output_type": "stream",
     "text": [
      "New car found: 16 in link https://cars.ksl.com/listing/6172381\n"
     ]
    },
    {
     "name": "stderr",
     "output_type": "stream",
     "text": [
      "\r",
      " 17% (17 of 96) |####                    | Elapsed Time: 0:00:15 ETA:   0:01:40"
     ]
    },
    {
     "name": "stdout",
     "output_type": "stream",
     "text": [
      "New car found: 17 in link https://cars.ksl.com/listing/6304272\n"
     ]
    },
    {
     "name": "stderr",
     "output_type": "stream",
     "text": [
      "\r",
      " 18% (18 of 96) |####                    | Elapsed Time: 0:00:19 ETA:   0:04:53"
     ]
    },
    {
     "name": "stdout",
     "output_type": "stream",
     "text": [
      "New car found: 18 in link https://cars.ksl.com/listing/6187567\n"
     ]
    },
    {
     "name": "stderr",
     "output_type": "stream",
     "text": [
      "\r",
      " 19% (19 of 96) |####                    | Elapsed Time: 0:00:20 ETA:   0:02:50"
     ]
    },
    {
     "name": "stdout",
     "output_type": "stream",
     "text": [
      "New car found: 19 in link https://cars.ksl.com/listing/6304271\n"
     ]
    },
    {
     "name": "stderr",
     "output_type": "stream",
     "text": [
      "\r",
      " 20% (20 of 96) |#####                   | Elapsed Time: 0:00:23 ETA:   0:03:47"
     ]
    },
    {
     "name": "stdout",
     "output_type": "stream",
     "text": [
      "New car found: 20 in link https://cars.ksl.com/listing/5757686\n"
     ]
    },
    {
     "name": "stderr",
     "output_type": "stream",
     "text": [
      "\r",
      " 21% (21 of 96) |#####                   | Elapsed Time: 0:00:24 ETA:   0:02:56"
     ]
    },
    {
     "name": "stdout",
     "output_type": "stream",
     "text": [
      "New car found: 21 in link https://cars.ksl.com/listing/6304270\n"
     ]
    },
    {
     "name": "stderr",
     "output_type": "stream",
     "text": [
      "\r",
      " 22% (22 of 96) |#####                   | Elapsed Time: 0:00:25 ETA:   0:01:29"
     ]
    },
    {
     "name": "stdout",
     "output_type": "stream",
     "text": [
      "New car found: 22 in link https://cars.ksl.com/listing/6172378\n"
     ]
    },
    {
     "name": "stderr",
     "output_type": "stream",
     "text": [
      "\r",
      " 23% (23 of 96) |#####                   | Elapsed Time: 0:00:26 ETA:   0:01:18"
     ]
    },
    {
     "name": "stdout",
     "output_type": "stream",
     "text": [
      "New car found: 23 in link https://cars.ksl.com/listing/6172374\n"
     ]
    },
    {
     "name": "stderr",
     "output_type": "stream",
     "text": [
      "\r",
      " 25% (24 of 96) |######                  | Elapsed Time: 0:00:26 ETA:   0:00:52"
     ]
    },
    {
     "name": "stdout",
     "output_type": "stream",
     "text": [
      "New car found: 24 in link https://cars.ksl.com/listing/6172373\n"
     ]
    },
    {
     "name": "stderr",
     "output_type": "stream",
     "text": [
      "\r",
      " 26% (25 of 96) |######                  | Elapsed Time: 0:00:27 ETA:   0:00:54"
     ]
    },
    {
     "name": "stdout",
     "output_type": "stream",
     "text": [
      "New car found: 25 in link https://cars.ksl.com/listing/6103819\n"
     ]
    },
    {
     "name": "stderr",
     "output_type": "stream",
     "text": [
      "\r",
      " 27% (26 of 96) |######                  | Elapsed Time: 0:00:28 ETA:   0:00:54"
     ]
    },
    {
     "name": "stdout",
     "output_type": "stream",
     "text": [
      "New car found: 26 in link https://cars.ksl.com/listing/6187559\n"
     ]
    },
    {
     "name": "stderr",
     "output_type": "stream",
     "text": [
      "\r",
      " 28% (27 of 96) |######                  | Elapsed Time: 0:00:29 ETA:   0:00:56"
     ]
    },
    {
     "name": "stdout",
     "output_type": "stream",
     "text": [
      "New car found: 27 in link https://cars.ksl.com/listing/6233302\n"
     ]
    },
    {
     "name": "stderr",
     "output_type": "stream",
     "text": [
      "\r",
      " 29% (28 of 96) |#######                 | Elapsed Time: 0:00:30 ETA:   0:00:52"
     ]
    },
    {
     "name": "stdout",
     "output_type": "stream",
     "text": [
      "New car found: 28 in link https://cars.ksl.com/listing/6171091\n"
     ]
    },
    {
     "name": "stderr",
     "output_type": "stream",
     "text": [
      "\r",
      " 30% (29 of 96) |#######                 | Elapsed Time: 0:00:31 ETA:   0:01:21"
     ]
    },
    {
     "name": "stdout",
     "output_type": "stream",
     "text": [
      "New car found: 29 in link https://cars.ksl.com/listing/6201265\n"
     ]
    },
    {
     "name": "stderr",
     "output_type": "stream",
     "text": [
      "\r",
      " 31% (30 of 96) |#######                 | Elapsed Time: 0:00:33 ETA:   0:01:57"
     ]
    },
    {
     "name": "stdout",
     "output_type": "stream",
     "text": [
      "New car found: 30 in link https://cars.ksl.com/listing/6201391\n"
     ]
    },
    {
     "name": "stderr",
     "output_type": "stream",
     "text": [
      "\r",
      " 32% (31 of 96) |#######                 | Elapsed Time: 0:00:36 ETA:   0:03:10"
     ]
    },
    {
     "name": "stdout",
     "output_type": "stream",
     "text": [
      "New car found: 31 in link https://cars.ksl.com/listing/6003346\n"
     ]
    },
    {
     "name": "stderr",
     "output_type": "stream",
     "text": [
      "\r",
      " 33% (32 of 96) |########                | Elapsed Time: 0:00:37 ETA:   0:01:57"
     ]
    },
    {
     "name": "stdout",
     "output_type": "stream",
     "text": [
      "New car found: 32 in link https://cars.ksl.com/listing/6137551\n"
     ]
    },
    {
     "name": "stderr",
     "output_type": "stream",
     "text": [
      "\r",
      " 34% (33 of 96) |########                | Elapsed Time: 0:00:39 ETA:   0:01:20"
     ]
    },
    {
     "name": "stdout",
     "output_type": "stream",
     "text": [
      "New car found: 33 in link https://cars.ksl.com/listing/6218386\n"
     ]
    },
    {
     "name": "stderr",
     "output_type": "stream",
     "text": [
      "\r",
      " 35% (34 of 96) |########                | Elapsed Time: 0:00:40 ETA:   0:01:37"
     ]
    },
    {
     "name": "stdout",
     "output_type": "stream",
     "text": [
      "New car found: 34 in link https://cars.ksl.com/listing/6137521\n"
     ]
    },
    {
     "name": "stderr",
     "output_type": "stream",
     "text": [
      "\r",
      " 36% (35 of 96) |########                | Elapsed Time: 0:00:41 ETA:   0:01:15"
     ]
    },
    {
     "name": "stdout",
     "output_type": "stream",
     "text": [
      "New car found: 35 in link https://cars.ksl.com/listing/6304268\n"
     ]
    },
    {
     "name": "stderr",
     "output_type": "stream",
     "text": [
      "\r",
      " 37% (36 of 96) |#########               | Elapsed Time: 0:00:41 ETA:   0:00:53"
     ]
    },
    {
     "name": "stdout",
     "output_type": "stream",
     "text": [
      "New car found: 36 in link https://cars.ksl.com/listing/6218385\n"
     ]
    },
    {
     "name": "stderr",
     "output_type": "stream",
     "text": [
      "\r",
      " 38% (37 of 96) |#########               | Elapsed Time: 0:00:42 ETA:   0:00:41"
     ]
    },
    {
     "name": "stdout",
     "output_type": "stream",
     "text": [
      "New car found: 37 in link https://cars.ksl.com/listing/6187552\n"
     ]
    },
    {
     "name": "stderr",
     "output_type": "stream",
     "text": [
      "\r",
      " 39% (38 of 96) |#########               | Elapsed Time: 0:00:44 ETA:   0:01:11"
     ]
    },
    {
     "name": "stdout",
     "output_type": "stream",
     "text": [
      "New car found: 38 in link https://cars.ksl.com/listing/6119895\n"
     ]
    },
    {
     "name": "stderr",
     "output_type": "stream",
     "text": [
      "\r",
      " 40% (39 of 96) |#########               | Elapsed Time: 0:00:46 ETA:   0:01:39"
     ]
    },
    {
     "name": "stdout",
     "output_type": "stream",
     "text": [
      "New car found: 39 in link https://cars.ksl.com/listing/6241098\n"
     ]
    },
    {
     "name": "stderr",
     "output_type": "stream",
     "text": [
      "\r",
      " 41% (40 of 96) |##########              | Elapsed Time: 0:00:46 ETA:   0:01:08"
     ]
    },
    {
     "name": "stdout",
     "output_type": "stream",
     "text": [
      "New car found: 40 in link https://cars.ksl.com/listing/6304267\n"
     ]
    },
    {
     "name": "stderr",
     "output_type": "stream",
     "text": [
      "\r",
      " 42% (41 of 96) |##########              | Elapsed Time: 0:00:47 ETA:   0:00:58"
     ]
    },
    {
     "name": "stdout",
     "output_type": "stream",
     "text": [
      "New car found: 41 in link https://cars.ksl.com/listing/6143391\n"
     ]
    },
    {
     "name": "stderr",
     "output_type": "stream",
     "text": [
      "\r",
      " 43% (42 of 96) |##########              | Elapsed Time: 0:00:48 ETA:   0:00:38"
     ]
    },
    {
     "name": "stdout",
     "output_type": "stream",
     "text": [
      "New car found: 42 in link https://cars.ksl.com/listing/6119894\n"
     ]
    },
    {
     "name": "stderr",
     "output_type": "stream",
     "text": [
      "\r",
      " 44% (43 of 96) |##########              | Elapsed Time: 0:00:50 ETA:   0:01:09"
     ]
    },
    {
     "name": "stdout",
     "output_type": "stream",
     "text": [
      "New car found: 43 in link https://cars.ksl.com/listing/6119893\n"
     ]
    },
    {
     "name": "stderr",
     "output_type": "stream",
     "text": [
      "\r",
      " 45% (44 of 96) |###########             | Elapsed Time: 0:00:50 ETA:   0:01:09"
     ]
    },
    {
     "name": "stdout",
     "output_type": "stream",
     "text": [
      "New car found: 44 in link https://cars.ksl.com/listing/6203416\n"
     ]
    },
    {
     "name": "stderr",
     "output_type": "stream",
     "text": [
      "\r",
      " 46% (45 of 96) |###########             | Elapsed Time: 0:00:51 ETA:   0:00:57"
     ]
    },
    {
     "name": "stdout",
     "output_type": "stream",
     "text": [
      "New car found: 45 in link https://cars.ksl.com/listing/6304265\n"
     ]
    },
    {
     "name": "stderr",
     "output_type": "stream",
     "text": [
      "\r",
      " 47% (46 of 96) |###########             | Elapsed Time: 0:00:52 ETA:   0:00:40"
     ]
    },
    {
     "name": "stdout",
     "output_type": "stream",
     "text": [
      "New car found: 46 in link https://cars.ksl.com/listing/6187547\n"
     ]
    },
    {
     "name": "stderr",
     "output_type": "stream",
     "text": [
      "\r",
      " 48% (47 of 96) |###########             | Elapsed Time: 0:00:54 ETA:   0:01:05"
     ]
    },
    {
     "name": "stdout",
     "output_type": "stream",
     "text": [
      "New car found: 47 in link https://cars.ksl.com/listing/6304264\n"
     ]
    },
    {
     "name": "stderr",
     "output_type": "stream",
     "text": [
      "\r",
      " 50% (48 of 96) |############            | Elapsed Time: 0:00:56 ETA:   0:01:23"
     ]
    },
    {
     "name": "stdout",
     "output_type": "stream",
     "text": [
      "New car found: 48 in link https://cars.ksl.com/listing/6304263\n"
     ]
    },
    {
     "name": "stderr",
     "output_type": "stream",
     "text": [
      "\r",
      " 51% (49 of 96) |############            | Elapsed Time: 0:00:57 ETA:   0:01:09"
     ]
    },
    {
     "name": "stdout",
     "output_type": "stream",
     "text": [
      "New car found: 49 in link https://cars.ksl.com/listing/6059446\n"
     ]
    },
    {
     "name": "stderr",
     "output_type": "stream",
     "text": [
      "\r",
      " 52% (50 of 96) |############            | Elapsed Time: 0:00:58 ETA:   0:00:57"
     ]
    },
    {
     "name": "stdout",
     "output_type": "stream",
     "text": [
      "New car found: 50 in link https://cars.ksl.com/listing/6266523\n"
     ]
    },
    {
     "name": "stderr",
     "output_type": "stream",
     "text": [
      "\r",
      " 53% (51 of 96) |############            | Elapsed Time: 0:00:58 ETA:   0:00:41"
     ]
    },
    {
     "name": "stdout",
     "output_type": "stream",
     "text": [
      "New car found: 51 in link https://cars.ksl.com/listing/6304262\n"
     ]
    },
    {
     "name": "stderr",
     "output_type": "stream",
     "text": [
      "\r",
      " 54% (52 of 96) |#############           | Elapsed Time: 0:01:00 ETA:   0:01:28"
     ]
    },
    {
     "name": "stdout",
     "output_type": "stream",
     "text": [
      "New car found: 52 in link https://cars.ksl.com/listing/6187532\n"
     ]
    },
    {
     "name": "stderr",
     "output_type": "stream",
     "text": [
      "\r",
      " 55% (53 of 96) |#############           | Elapsed Time: 0:01:03 ETA:   0:01:49"
     ]
    },
    {
     "name": "stdout",
     "output_type": "stream",
     "text": [
      "New car found: 53 in link https://cars.ksl.com/listing/5806269\n"
     ]
    },
    {
     "name": "stderr",
     "output_type": "stream",
     "text": [
      "\r",
      " 56% (54 of 96) |#############           | Elapsed Time: 0:01:05 ETA:   0:01:27"
     ]
    },
    {
     "name": "stdout",
     "output_type": "stream",
     "text": [
      "New car found: 54 in link https://cars.ksl.com/listing/6304259\n"
     ]
    },
    {
     "name": "stderr",
     "output_type": "stream",
     "text": [
      "\r",
      " 57% (55 of 96) |#############           | Elapsed Time: 0:01:05 ETA:   0:00:51"
     ]
    },
    {
     "name": "stdout",
     "output_type": "stream",
     "text": [
      "New car found: 55 in link https://cars.ksl.com/listing/6157612\n"
     ]
    },
    {
     "name": "stderr",
     "output_type": "stream",
     "text": [
      "\r",
      " 58% (56 of 96) |##############          | Elapsed Time: 0:01:06 ETA:   0:00:43"
     ]
    },
    {
     "name": "stdout",
     "output_type": "stream",
     "text": [
      "New car found: 56 in link https://cars.ksl.com/listing/6203398\n"
     ]
    },
    {
     "name": "stderr",
     "output_type": "stream",
     "text": [
      "\r",
      " 59% (57 of 96) |##############          | Elapsed Time: 0:01:08 ETA:   0:01:20"
     ]
    },
    {
     "name": "stdout",
     "output_type": "stream",
     "text": [
      "New car found: 57 in link https://cars.ksl.com/listing/6172823\n"
     ]
    },
    {
     "name": "stderr",
     "output_type": "stream",
     "text": [
      "\r",
      " 60% (58 of 96) |##############          | Elapsed Time: 0:01:09 ETA:   0:00:53"
     ]
    },
    {
     "name": "stdout",
     "output_type": "stream",
     "text": [
      "New car found: 58 in link https://cars.ksl.com/listing/6040062\n"
     ]
    },
    {
     "name": "stderr",
     "output_type": "stream",
     "text": [
      "\r",
      " 61% (59 of 96) |##############          | Elapsed Time: 0:01:10 ETA:   0:00:45"
     ]
    },
    {
     "name": "stdout",
     "output_type": "stream",
     "text": [
      "New car found: 59 in link https://cars.ksl.com/listing/6187518\n"
     ]
    },
    {
     "name": "stderr",
     "output_type": "stream",
     "text": [
      "\r",
      " 62% (60 of 96) |###############         | Elapsed Time: 0:01:11 ETA:   0:00:28"
     ]
    },
    {
     "name": "stdout",
     "output_type": "stream",
     "text": [
      "New car found: 60 in link https://cars.ksl.com/listing/6187529\n"
     ]
    },
    {
     "name": "stderr",
     "output_type": "stream",
     "text": [
      "\r",
      " 63% (61 of 96) |###############         | Elapsed Time: 0:01:13 ETA:   0:00:45"
     ]
    },
    {
     "name": "stdout",
     "output_type": "stream",
     "text": [
      "New car found: 61 in link https://cars.ksl.com/listing/6201714\n"
     ]
    },
    {
     "name": "stderr",
     "output_type": "stream",
     "text": [
      "\r",
      " 64% (62 of 96) |###############         | Elapsed Time: 0:01:13 ETA:   0:00:45"
     ]
    },
    {
     "name": "stdout",
     "output_type": "stream",
     "text": [
      "New car found: 62 in link https://cars.ksl.com/listing/6203271\n"
     ]
    },
    {
     "name": "stderr",
     "output_type": "stream",
     "text": [
      "\r",
      " 65% (63 of 96) |###############         | Elapsed Time: 0:01:15 ETA:   0:00:43"
     ]
    },
    {
     "name": "stdout",
     "output_type": "stream",
     "text": [
      "New car found: 63 in link https://cars.ksl.com/listing/6203396\n"
     ]
    },
    {
     "name": "stderr",
     "output_type": "stream",
     "text": [
      "\r",
      " 66% (64 of 96) |################        | Elapsed Time: 0:01:20 ETA:   0:02:20"
     ]
    },
    {
     "name": "stdout",
     "output_type": "stream",
     "text": [
      "New car found: 64 in link https://cars.ksl.com/listing/6187528\n"
     ]
    },
    {
     "name": "stderr",
     "output_type": "stream",
     "text": [
      "\r",
      " 67% (65 of 96) |################        | Elapsed Time: 0:01:21 ETA:   0:01:36"
     ]
    },
    {
     "name": "stdout",
     "output_type": "stream",
     "text": [
      "New car found: 65 in link https://cars.ksl.com/listing/6187527\n"
     ]
    },
    {
     "name": "stderr",
     "output_type": "stream",
     "text": [
      "\r",
      " 68% (66 of 96) |################        | Elapsed Time: 0:01:23 ETA:   0:00:52"
     ]
    },
    {
     "name": "stdout",
     "output_type": "stream",
     "text": [
      "New car found: 66 in link https://cars.ksl.com/listing/6304258\n"
     ]
    },
    {
     "name": "stderr",
     "output_type": "stream",
     "text": [
      "\r",
      " 69% (67 of 96) |################        | Elapsed Time: 0:01:25 ETA:   0:00:58"
     ]
    },
    {
     "name": "stdout",
     "output_type": "stream",
     "text": [
      "New car found: 67 in link https://cars.ksl.com/listing/6187526\n"
     ]
    },
    {
     "name": "stderr",
     "output_type": "stream",
     "text": [
      "\r",
      " 70% (68 of 96) |#################       | Elapsed Time: 0:01:28 ETA:   0:01:23"
     ]
    },
    {
     "name": "stdout",
     "output_type": "stream",
     "text": [
      "New car found: 68 in link https://cars.ksl.com/listing/6187517\n"
     ]
    },
    {
     "name": "stderr",
     "output_type": "stream",
     "text": [
      "\r",
      " 71% (69 of 96) |#################       | Elapsed Time: 0:01:30 ETA:   0:01:03"
     ]
    },
    {
     "name": "stdout",
     "output_type": "stream",
     "text": [
      "New car found: 69 in link https://cars.ksl.com/listing/6304256\n"
     ]
    },
    {
     "name": "stderr",
     "output_type": "stream",
     "text": [
      "\r",
      " 72% (70 of 96) |#################       | Elapsed Time: 0:01:32 ETA:   0:00:46"
     ]
    },
    {
     "name": "stdout",
     "output_type": "stream",
     "text": [
      "New car found: 70 in link https://cars.ksl.com/listing/6187514\n"
     ]
    },
    {
     "name": "stderr",
     "output_type": "stream",
     "text": [
      "\r",
      " 73% (71 of 96) |#################       | Elapsed Time: 0:01:34 ETA:   0:00:52"
     ]
    },
    {
     "name": "stdout",
     "output_type": "stream",
     "text": [
      "New car found: 71 in link https://cars.ksl.com/listing/6172817\n"
     ]
    },
    {
     "name": "stderr",
     "output_type": "stream",
     "text": [
      "\r",
      " 75% (72 of 96) |##################      | Elapsed Time: 0:01:35 ETA:   0:00:46"
     ]
    },
    {
     "name": "stdout",
     "output_type": "stream",
     "text": [
      "New car found: 72 in link https://cars.ksl.com/listing/5806259\n"
     ]
    },
    {
     "name": "stderr",
     "output_type": "stream",
     "text": [
      "\r",
      " 76% (73 of 96) |##################      | Elapsed Time: 0:01:36 ETA:   0:00:27"
     ]
    },
    {
     "name": "stdout",
     "output_type": "stream",
     "text": [
      "New car found: 73 in link https://cars.ksl.com/listing/6304254\n"
     ]
    },
    {
     "name": "stderr",
     "output_type": "stream",
     "text": [
      "\r",
      " 77% (74 of 96) |##################      | Elapsed Time: 0:01:37 ETA:   0:00:24"
     ]
    },
    {
     "name": "stdout",
     "output_type": "stream",
     "text": [
      "New car found: 74 in link https://cars.ksl.com/listing/6172812\n"
     ]
    },
    {
     "name": "stderr",
     "output_type": "stream",
     "text": [
      "\r",
      " 78% (75 of 96) |##################      | Elapsed Time: 0:01:38 ETA:   0:00:15"
     ]
    },
    {
     "name": "stdout",
     "output_type": "stream",
     "text": [
      "New car found: 75 in link https://cars.ksl.com/listing/6266639\n"
     ]
    },
    {
     "name": "stderr",
     "output_type": "stream",
     "text": [
      "\r",
      " 79% (76 of 96) |###################     | Elapsed Time: 0:01:38 ETA:   0:00:14"
     ]
    },
    {
     "name": "stdout",
     "output_type": "stream",
     "text": [
      "New car found: 76 in link https://cars.ksl.com/listing/6260726\n"
     ]
    },
    {
     "name": "stderr",
     "output_type": "stream",
     "text": [
      "\r",
      " 80% (77 of 96) |###################     | Elapsed Time: 0:01:39 ETA:   0:00:14"
     ]
    },
    {
     "name": "stdout",
     "output_type": "stream",
     "text": [
      "New car found: 77 in link https://cars.ksl.com/listing/6087719\n"
     ]
    },
    {
     "name": "stderr",
     "output_type": "stream",
     "text": [
      "\r",
      " 81% (78 of 96) |###################     | Elapsed Time: 0:01:41 ETA:   0:00:19"
     ]
    },
    {
     "name": "stdout",
     "output_type": "stream",
     "text": [
      "New car found: 78 in link https://cars.ksl.com/listing/6187502\n"
     ]
    },
    {
     "name": "stderr",
     "output_type": "stream",
     "text": [
      "\r",
      " 82% (79 of 96) |###################     | Elapsed Time: 0:01:41 ETA:   0:00:17"
     ]
    },
    {
     "name": "stdout",
     "output_type": "stream",
     "text": [
      "New car found: 79 in link https://cars.ksl.com/listing/6225561\n"
     ]
    },
    {
     "name": "stderr",
     "output_type": "stream",
     "text": [
      "\r",
      " 83% (80 of 96) |####################    | Elapsed Time: 0:01:43 ETA:   0:00:19"
     ]
    },
    {
     "name": "stdout",
     "output_type": "stream",
     "text": [
      "New car found: 80 in link https://cars.ksl.com/listing/6217345\n"
     ]
    },
    {
     "name": "stderr",
     "output_type": "stream",
     "text": [
      "\r",
      " 84% (81 of 96) |####################    | Elapsed Time: 0:01:44 ETA:   0:00:19"
     ]
    },
    {
     "name": "stdout",
     "output_type": "stream",
     "text": [
      "New car found: 81 in link https://cars.ksl.com/listing/6119871\n"
     ]
    },
    {
     "name": "stderr",
     "output_type": "stream",
     "text": [
      "\r",
      " 85% (82 of 96) |####################    | Elapsed Time: 0:01:45 ETA:   0:00:16"
     ]
    },
    {
     "name": "stdout",
     "output_type": "stream",
     "text": [
      "New car found: 82 in link https://cars.ksl.com/listing/6187490\n"
     ]
    },
    {
     "name": "stderr",
     "output_type": "stream",
     "text": [
      "\r",
      " 86% (83 of 96) |####################    | Elapsed Time: 0:01:46 ETA:   0:00:11"
     ]
    },
    {
     "name": "stdout",
     "output_type": "stream",
     "text": [
      "New car found: 83 in link https://cars.ksl.com/listing/6156605\n"
     ]
    },
    {
     "name": "stderr",
     "output_type": "stream",
     "text": [
      "\r",
      " 87% (84 of 96) |#####################   | Elapsed Time: 0:01:47 ETA:   0:00:10"
     ]
    },
    {
     "name": "stdout",
     "output_type": "stream",
     "text": [
      "New car found: 84 in link https://cars.ksl.com/listing/6119870\n"
     ]
    },
    {
     "name": "stderr",
     "output_type": "stream",
     "text": [
      "\r",
      " 88% (85 of 96) |#####################   | Elapsed Time: 0:01:47 ETA:   0:00:09"
     ]
    },
    {
     "name": "stdout",
     "output_type": "stream",
     "text": [
      "New car found: 85 in link https://cars.ksl.com/listing/6285376\n"
     ]
    },
    {
     "name": "stderr",
     "output_type": "stream",
     "text": [
      "\r",
      " 89% (86 of 96) |#####################   | Elapsed Time: 0:01:48 ETA:   0:00:08"
     ]
    },
    {
     "name": "stdout",
     "output_type": "stream",
     "text": [
      "New car found: 86 in link https://cars.ksl.com/listing/6187484\n"
     ]
    },
    {
     "name": "stderr",
     "output_type": "stream",
     "text": [
      "\r",
      " 90% (87 of 96) |#####################   | Elapsed Time: 0:01:49 ETA:   0:00:06"
     ]
    },
    {
     "name": "stdout",
     "output_type": "stream",
     "text": [
      "New car found: 87 in link https://cars.ksl.com/listing/6304246\n"
     ]
    },
    {
     "name": "stderr",
     "output_type": "stream",
     "text": [
      "\r",
      " 91% (88 of 96) |######################  | Elapsed Time: 0:01:51 ETA:   0:00:09"
     ]
    },
    {
     "name": "stdout",
     "output_type": "stream",
     "text": [
      "New car found: 88 in link https://cars.ksl.com/listing/6267934\n"
     ]
    },
    {
     "name": "stderr",
     "output_type": "stream",
     "text": [
      "\r",
      " 92% (89 of 96) |######################  | Elapsed Time: 0:01:51 ETA:   0:00:08"
     ]
    },
    {
     "name": "stdout",
     "output_type": "stream",
     "text": [
      "New car found: 89 in link https://cars.ksl.com/listing/6260121\n"
     ]
    },
    {
     "name": "stderr",
     "output_type": "stream",
     "text": [
      "\r",
      " 93% (90 of 96) |######################  | Elapsed Time: 0:01:52 ETA:   0:00:06"
     ]
    },
    {
     "name": "stdout",
     "output_type": "stream",
     "text": [
      "New car found: 90 in link https://cars.ksl.com/listing/6304245\n"
     ]
    },
    {
     "name": "stderr",
     "output_type": "stream",
     "text": [
      "\r",
      " 94% (91 of 96) |######################  | Elapsed Time: 0:01:53 ETA:   0:00:03"
     ]
    },
    {
     "name": "stdout",
     "output_type": "stream",
     "text": [
      "New car found: 91 in link https://cars.ksl.com/listing/6267932\n"
     ]
    },
    {
     "name": "stderr",
     "output_type": "stream",
     "text": [
      "\r",
      " 95% (92 of 96) |####################### | Elapsed Time: 0:01:57 ETA:   0:00:15"
     ]
    },
    {
     "name": "stdout",
     "output_type": "stream",
     "text": [
      "New car found: 92 in link https://cars.ksl.com/listing/6267931\n"
     ]
    },
    {
     "name": "stderr",
     "output_type": "stream",
     "text": [
      "\r",
      " 96% (93 of 96) |####################### | Elapsed Time: 0:01:57 ETA:   0:00:06"
     ]
    },
    {
     "name": "stdout",
     "output_type": "stream",
     "text": [
      "New car found: 93 in link https://cars.ksl.com/listing/6267929\n"
     ]
    },
    {
     "name": "stderr",
     "output_type": "stream",
     "text": [
      "\r",
      " 97% (94 of 96) |####################### | Elapsed Time: 0:01:58 ETA:   0:00:03"
     ]
    },
    {
     "name": "stdout",
     "output_type": "stream",
     "text": [
      "New car found: 94 in link https://cars.ksl.com/listing/6230949\n"
     ]
    },
    {
     "name": "stderr",
     "output_type": "stream",
     "text": [
      "100% (96 of 96) |########################| Elapsed Time: 0:02:00 Time:  0:02:00\n"
     ]
    },
    {
     "name": "stdout",
     "output_type": "stream",
     "text": [
      "New car found: 95 in link https://cars.ksl.com/listing/6267927\n",
      "More results? 1\n"
     ]
    },
    {
     "data": {
      "text/html": [
       "<div>\n",
       "<style scoped>\n",
       "    .dataframe tbody tr th:only-of-type {\n",
       "        vertical-align: middle;\n",
       "    }\n",
       "\n",
       "    .dataframe tbody tr th {\n",
       "        vertical-align: top;\n",
       "    }\n",
       "\n",
       "    .dataframe thead th {\n",
       "        text-align: right;\n",
       "    }\n",
       "</style>\n",
       "<table border=\"1\" class=\"dataframe\">\n",
       "  <thead>\n",
       "    <tr style=\"text-align: right;\">\n",
       "      <th></th>\n",
       "      <th>timestamp</th>\n",
       "      <th>price</th>\n",
       "      <th>year</th>\n",
       "      <th>make</th>\n",
       "      <th>model</th>\n",
       "      <th>body</th>\n",
       "      <th>mileage</th>\n",
       "      <th>title_type</th>\n",
       "      <th>city</th>\n",
       "      <th>state</th>\n",
       "      <th>...</th>\n",
       "      <th>ext_color</th>\n",
       "      <th>int_color</th>\n",
       "      <th>transmission</th>\n",
       "      <th>liters</th>\n",
       "      <th>cylinders</th>\n",
       "      <th>fuel_type</th>\n",
       "      <th>num_doors</th>\n",
       "      <th>ext_condition</th>\n",
       "      <th>int_condition</th>\n",
       "      <th>drive_type</th>\n",
       "    </tr>\n",
       "  </thead>\n",
       "  <tbody>\n",
       "    <tr>\n",
       "      <td>0</td>\n",
       "      <td>1584032705</td>\n",
       "      <td>3750</td>\n",
       "      <td>2012</td>\n",
       "      <td>Nissan</td>\n",
       "      <td>Altima</td>\n",
       "      <td>Sedan</td>\n",
       "      <td>145000.0</td>\n",
       "      <td>Clean Title</td>\n",
       "      <td>Salt Lake City</td>\n",
       "      <td>UT</td>\n",
       "      <td>...</td>\n",
       "      <td>gray</td>\n",
       "      <td>gray</td>\n",
       "      <td>Automatic</td>\n",
       "      <td>NaN</td>\n",
       "      <td>4.0</td>\n",
       "      <td>Gasoline</td>\n",
       "      <td>4.0</td>\n",
       "      <td>Very Good</td>\n",
       "      <td>Very Good</td>\n",
       "      <td>FWD</td>\n",
       "    </tr>\n",
       "    <tr>\n",
       "      <td>1</td>\n",
       "      <td>1584032516</td>\n",
       "      <td>34142</td>\n",
       "      <td>2017</td>\n",
       "      <td>Toyota</td>\n",
       "      <td>Tundra</td>\n",
       "      <td>Truck</td>\n",
       "      <td>31658.0</td>\n",
       "      <td>NaN</td>\n",
       "      <td>Sandy</td>\n",
       "      <td>UT</td>\n",
       "      <td>...</td>\n",
       "      <td>white</td>\n",
       "      <td>NaN</td>\n",
       "      <td>Automatic</td>\n",
       "      <td>NaN</td>\n",
       "      <td>8.0</td>\n",
       "      <td>Gasoline</td>\n",
       "      <td>4.0</td>\n",
       "      <td>NaN</td>\n",
       "      <td>NaN</td>\n",
       "      <td>4-Wheel Drive</td>\n",
       "    </tr>\n",
       "    <tr>\n",
       "      <td>2</td>\n",
       "      <td>1584032445</td>\n",
       "      <td>14523</td>\n",
       "      <td>2016</td>\n",
       "      <td>Volkswagen</td>\n",
       "      <td>Tiguan</td>\n",
       "      <td>Sport Utility</td>\n",
       "      <td>52651.0</td>\n",
       "      <td>NaN</td>\n",
       "      <td>Salt Lake City</td>\n",
       "      <td>UT</td>\n",
       "      <td>...</td>\n",
       "      <td>black</td>\n",
       "      <td>NaN</td>\n",
       "      <td>Automatic</td>\n",
       "      <td>NaN</td>\n",
       "      <td>4.0</td>\n",
       "      <td>Gasoline</td>\n",
       "      <td>NaN</td>\n",
       "      <td>NaN</td>\n",
       "      <td>NaN</td>\n",
       "      <td>AWD</td>\n",
       "    </tr>\n",
       "    <tr>\n",
       "      <td>3</td>\n",
       "      <td>1584032443</td>\n",
       "      <td>8995</td>\n",
       "      <td>2017</td>\n",
       "      <td>Volkswagen</td>\n",
       "      <td>Jetta</td>\n",
       "      <td>Sedan</td>\n",
       "      <td>82987.0</td>\n",
       "      <td>Clean Title</td>\n",
       "      <td>Draper</td>\n",
       "      <td>UT</td>\n",
       "      <td>...</td>\n",
       "      <td>red</td>\n",
       "      <td>titan black/palladium gray</td>\n",
       "      <td>Automatic</td>\n",
       "      <td>NaN</td>\n",
       "      <td>4.0</td>\n",
       "      <td>Gasoline</td>\n",
       "      <td>4.0</td>\n",
       "      <td>NaN</td>\n",
       "      <td>NaN</td>\n",
       "      <td>NaN</td>\n",
       "    </tr>\n",
       "    <tr>\n",
       "      <td>4</td>\n",
       "      <td>1584032423</td>\n",
       "      <td>19955</td>\n",
       "      <td>2019</td>\n",
       "      <td>Volkswagen</td>\n",
       "      <td>Jetta</td>\n",
       "      <td>Sedan</td>\n",
       "      <td>12390.0</td>\n",
       "      <td>NaN</td>\n",
       "      <td>Layton</td>\n",
       "      <td>UT</td>\n",
       "      <td>...</td>\n",
       "      <td>pure white</td>\n",
       "      <td>NaN</td>\n",
       "      <td>Automatic</td>\n",
       "      <td>NaN</td>\n",
       "      <td>4.0</td>\n",
       "      <td>Gasoline</td>\n",
       "      <td>4.0</td>\n",
       "      <td>NaN</td>\n",
       "      <td>NaN</td>\n",
       "      <td>NaN</td>\n",
       "    </tr>\n",
       "    <tr>\n",
       "      <td>...</td>\n",
       "      <td>...</td>\n",
       "      <td>...</td>\n",
       "      <td>...</td>\n",
       "      <td>...</td>\n",
       "      <td>...</td>\n",
       "      <td>...</td>\n",
       "      <td>...</td>\n",
       "      <td>...</td>\n",
       "      <td>...</td>\n",
       "      <td>...</td>\n",
       "      <td>...</td>\n",
       "      <td>...</td>\n",
       "      <td>...</td>\n",
       "      <td>...</td>\n",
       "      <td>...</td>\n",
       "      <td>...</td>\n",
       "      <td>...</td>\n",
       "      <td>...</td>\n",
       "      <td>...</td>\n",
       "      <td>...</td>\n",
       "      <td>...</td>\n",
       "    </tr>\n",
       "    <tr>\n",
       "      <td>187</td>\n",
       "      <td>1584030225</td>\n",
       "      <td>17989</td>\n",
       "      <td>2017</td>\n",
       "      <td>Toyota</td>\n",
       "      <td>RAV4</td>\n",
       "      <td>Sport Utility</td>\n",
       "      <td>36432.0</td>\n",
       "      <td>Clean Title</td>\n",
       "      <td>North Salt Lake</td>\n",
       "      <td>UT</td>\n",
       "      <td>...</td>\n",
       "      <td>blue</td>\n",
       "      <td>gray</td>\n",
       "      <td>Automatic</td>\n",
       "      <td>NaN</td>\n",
       "      <td>4.0</td>\n",
       "      <td>Gasoline</td>\n",
       "      <td>NaN</td>\n",
       "      <td>NaN</td>\n",
       "      <td>NaN</td>\n",
       "      <td>4-Wheel Drive</td>\n",
       "    </tr>\n",
       "    <tr>\n",
       "      <td>188</td>\n",
       "      <td>1584030215</td>\n",
       "      <td>28589</td>\n",
       "      <td>2017</td>\n",
       "      <td>Toyota</td>\n",
       "      <td>Highlander</td>\n",
       "      <td>Sport Utility</td>\n",
       "      <td>34668.0</td>\n",
       "      <td>Clean Title</td>\n",
       "      <td>North Salt Lake</td>\n",
       "      <td>UT</td>\n",
       "      <td>...</td>\n",
       "      <td>black</td>\n",
       "      <td>gray</td>\n",
       "      <td>Automatic</td>\n",
       "      <td>NaN</td>\n",
       "      <td>6.0</td>\n",
       "      <td>Gasoline</td>\n",
       "      <td>NaN</td>\n",
       "      <td>NaN</td>\n",
       "      <td>NaN</td>\n",
       "      <td>AWD</td>\n",
       "    </tr>\n",
       "    <tr>\n",
       "      <td>189</td>\n",
       "      <td>1584030207</td>\n",
       "      <td>19275</td>\n",
       "      <td>2019</td>\n",
       "      <td>Hyundai</td>\n",
       "      <td>Tucson</td>\n",
       "      <td>Sport Utility</td>\n",
       "      <td>19227.0</td>\n",
       "      <td>Clean Title</td>\n",
       "      <td>North Salt Lake</td>\n",
       "      <td>UT</td>\n",
       "      <td>...</td>\n",
       "      <td>gray</td>\n",
       "      <td>black</td>\n",
       "      <td>Automatic</td>\n",
       "      <td>NaN</td>\n",
       "      <td>4.0</td>\n",
       "      <td>Gasoline</td>\n",
       "      <td>NaN</td>\n",
       "      <td>NaN</td>\n",
       "      <td>NaN</td>\n",
       "      <td>AWD</td>\n",
       "    </tr>\n",
       "    <tr>\n",
       "      <td>190</td>\n",
       "      <td>1584030205</td>\n",
       "      <td>13995</td>\n",
       "      <td>2013</td>\n",
       "      <td>Nissan</td>\n",
       "      <td>Titan</td>\n",
       "      <td>Truck</td>\n",
       "      <td>95000.0</td>\n",
       "      <td>Clean Title</td>\n",
       "      <td>Salt Lake City</td>\n",
       "      <td>UT</td>\n",
       "      <td>...</td>\n",
       "      <td>black</td>\n",
       "      <td>tan</td>\n",
       "      <td>Automatic</td>\n",
       "      <td>NaN</td>\n",
       "      <td>8.0</td>\n",
       "      <td>Flex Fuel</td>\n",
       "      <td>4.0</td>\n",
       "      <td>Excellent</td>\n",
       "      <td>Excellent</td>\n",
       "      <td>4-Wheel Drive</td>\n",
       "    </tr>\n",
       "    <tr>\n",
       "      <td>191</td>\n",
       "      <td>1584030186</td>\n",
       "      <td>18489</td>\n",
       "      <td>2017</td>\n",
       "      <td>Toyota</td>\n",
       "      <td>RAV4</td>\n",
       "      <td>Sport Utility</td>\n",
       "      <td>35081.0</td>\n",
       "      <td>Clean Title</td>\n",
       "      <td>North Salt Lake</td>\n",
       "      <td>UT</td>\n",
       "      <td>...</td>\n",
       "      <td>silver</td>\n",
       "      <td>black</td>\n",
       "      <td>Automatic</td>\n",
       "      <td>NaN</td>\n",
       "      <td>4.0</td>\n",
       "      <td>Gasoline</td>\n",
       "      <td>NaN</td>\n",
       "      <td>NaN</td>\n",
       "      <td>NaN</td>\n",
       "      <td>4-Wheel Drive</td>\n",
       "    </tr>\n",
       "  </tbody>\n",
       "</table>\n",
       "<p>192 rows × 22 columns</p>\n",
       "</div>"
      ],
      "text/plain": [
       "      timestamp  price  year        make       model           body   mileage  \\\n",
       "0    1584032705   3750  2012      Nissan      Altima          Sedan  145000.0   \n",
       "1    1584032516  34142  2017      Toyota      Tundra          Truck   31658.0   \n",
       "2    1584032445  14523  2016  Volkswagen      Tiguan  Sport Utility   52651.0   \n",
       "3    1584032443   8995  2017  Volkswagen       Jetta          Sedan   82987.0   \n",
       "4    1584032423  19955  2019  Volkswagen       Jetta          Sedan   12390.0   \n",
       "..          ...    ...   ...         ...         ...            ...       ...   \n",
       "187  1584030225  17989  2017      Toyota        RAV4  Sport Utility   36432.0   \n",
       "188  1584030215  28589  2017      Toyota  Highlander  Sport Utility   34668.0   \n",
       "189  1584030207  19275  2019     Hyundai      Tucson  Sport Utility   19227.0   \n",
       "190  1584030205  13995  2013      Nissan       Titan          Truck   95000.0   \n",
       "191  1584030186  18489  2017      Toyota        RAV4  Sport Utility   35081.0   \n",
       "\n",
       "      title_type             city state  ...   ext_color  \\\n",
       "0    Clean Title   Salt Lake City    UT  ...        gray   \n",
       "1            NaN            Sandy    UT  ...       white   \n",
       "2            NaN   Salt Lake City    UT  ...       black   \n",
       "3    Clean Title           Draper    UT  ...         red   \n",
       "4            NaN           Layton    UT  ...  pure white   \n",
       "..           ...              ...   ...  ...         ...   \n",
       "187  Clean Title  North Salt Lake    UT  ...        blue   \n",
       "188  Clean Title  North Salt Lake    UT  ...       black   \n",
       "189  Clean Title  North Salt Lake    UT  ...        gray   \n",
       "190  Clean Title   Salt Lake City    UT  ...       black   \n",
       "191  Clean Title  North Salt Lake    UT  ...      silver   \n",
       "\n",
       "                      int_color transmission liters cylinders  fuel_type  \\\n",
       "0                          gray    Automatic    NaN       4.0   Gasoline   \n",
       "1                           NaN    Automatic    NaN       8.0   Gasoline   \n",
       "2                           NaN    Automatic    NaN       4.0   Gasoline   \n",
       "3    titan black/palladium gray    Automatic    NaN       4.0   Gasoline   \n",
       "4                           NaN    Automatic    NaN       4.0   Gasoline   \n",
       "..                          ...          ...    ...       ...        ...   \n",
       "187                        gray    Automatic    NaN       4.0   Gasoline   \n",
       "188                        gray    Automatic    NaN       6.0   Gasoline   \n",
       "189                       black    Automatic    NaN       4.0   Gasoline   \n",
       "190                         tan    Automatic    NaN       8.0  Flex Fuel   \n",
       "191                       black    Automatic    NaN       4.0   Gasoline   \n",
       "\n",
       "     num_doors ext_condition  int_condition     drive_type  \n",
       "0          4.0     Very Good      Very Good            FWD  \n",
       "1          4.0           NaN            NaN  4-Wheel Drive  \n",
       "2          NaN           NaN            NaN            AWD  \n",
       "3          4.0           NaN            NaN            NaN  \n",
       "4          4.0           NaN            NaN            NaN  \n",
       "..         ...           ...            ...            ...  \n",
       "187        NaN           NaN            NaN  4-Wheel Drive  \n",
       "188        NaN           NaN            NaN            AWD  \n",
       "189        NaN           NaN            NaN            AWD  \n",
       "190        4.0     Excellent      Excellent  4-Wheel Drive  \n",
       "191        NaN           NaN            NaN  4-Wheel Drive  \n",
       "\n",
       "[192 rows x 22 columns]"
      ]
     },
     "execution_count": 3,
     "metadata": {},
     "output_type": "execute_result"
    }
   ],
   "source": [
    "# Try a multi-page test using carscraper function\n",
    "\n",
    "# set cap for number of search pages to load (i.e. pages with up to 96 listings)\n",
    "maxpg = 2\n",
    "\n",
    "# Define root url for KSL cars\n",
    "rooturl = \"https://cars.ksl.com\"\n",
    "\n",
    "# Note the url below specifies that we're looking for 96 per page and the default sort of newest to oldest posting\n",
    "# This note about newest to oldest is useful so that we can avoid scraping repeat listings based on their timestamps\n",
    "# Also note that this url does NOT have a page number associated with it. This is added in the while loop below\n",
    "lurl = \"https://cars.ksl.com/search/newUsed/Used;Certified/perPage/96/page/\"\n",
    "\n",
    "count = 0\n",
    "all_cars = []\n",
    "while count < maxpg:\n",
    "    url = lurl + str(count)\n",
    "    curr_cars, moreresults = carscraper(url, rooturl, 0)\n",
    "    count += 1    \n",
    "#     print(f'More results? {moreresults}')\n",
    "    if type(curr_cars) is pd.core.frame.DataFrame: # make sure real data was returned\n",
    "        try:\n",
    "            all_cars = pd.concat([all_cars, curr_cars], ignore_index=True)\n",
    "        except:\n",
    "            all_cars = curr_cars\n",
    "    else:\n",
    "        print('No car data found!')\n",
    "    \n",
    "all_cars"
   ]
  },
  {
   "cell_type": "code",
   "execution_count": 4,
   "metadata": {},
   "outputs": [],
   "source": [
    "# Save dataframe to csv\n",
    "\n",
    "all_cars.to_csv('data/all_cars.csv', index=False)"
   ]
  },
  {
   "cell_type": "code",
   "execution_count": 5,
   "metadata": {},
   "outputs": [],
   "source": [
    "# Load dataframe\n",
    "all_cars = pd.read_csv('data/all_cars.csv')\n",
    "\n",
    "# get most recent timestamp from the dataframe\n",
    "rep_ts = all_cars['timestamp'].max()"
   ]
  },
  {
   "cell_type": "code",
   "execution_count": 8,
   "metadata": {},
   "outputs": [
    {
     "name": "stderr",
     "output_type": "stream",
     "text": [
      "\r",
      "N/A% (0 of 96) |                         | Elapsed Time: 0:00:00 ETA:  --:--:--"
     ]
    },
    {
     "name": "stdout",
     "output_type": "stream",
     "text": [
      "New car found: 0 in link https://cars.ksl.com/listing/6304322\n"
     ]
    },
    {
     "name": "stderr",
     "output_type": "stream",
     "text": [
      "\r",
      "  1% (1 of 96) |                         | Elapsed Time: 0:00:00 ETA:   0:01:32"
     ]
    },
    {
     "name": "stdout",
     "output_type": "stream",
     "text": [
      "New car found: 1 in link https://cars.ksl.com/listing/6187672\n"
     ]
    },
    {
     "name": "stderr",
     "output_type": "stream",
     "text": [
      "\r",
      "  2% (2 of 96) |                         | Elapsed Time: 0:00:03 ETA:   0:03:29"
     ]
    },
    {
     "name": "stdout",
     "output_type": "stream",
     "text": [
      "New car found: 2 in link https://cars.ksl.com/listing/6003461\n"
     ]
    },
    {
     "name": "stderr",
     "output_type": "stream",
     "text": [
      "\r",
      "  3% (3 of 96) |                         | Elapsed Time: 0:00:04 ETA:   0:02:28"
     ]
    },
    {
     "name": "stdout",
     "output_type": "stream",
     "text": [
      "New car found: 3 in link https://cars.ksl.com/listing/6225513\n"
     ]
    },
    {
     "name": "stderr",
     "output_type": "stream",
     "text": [
      "\r",
      "  4% (4 of 96) |#                        | Elapsed Time: 0:00:05 ETA:   0:01:39"
     ]
    },
    {
     "name": "stdout",
     "output_type": "stream",
     "text": [
      "New car found: 4 in link https://cars.ksl.com/listing/6187668\n"
     ]
    },
    {
     "name": "stderr",
     "output_type": "stream",
     "text": [
      "\r",
      "  5% (5 of 96) |#                        | Elapsed Time: 0:00:06 ETA:   0:01:41"
     ]
    },
    {
     "name": "stdout",
     "output_type": "stream",
     "text": [
      "New car found: 5 in link https://cars.ksl.com/listing/5790398\n"
     ]
    },
    {
     "name": "stderr",
     "output_type": "stream",
     "text": [
      "\r",
      "  6% (6 of 96) |#                        | Elapsed Time: 0:00:08 ETA:   0:02:02"
     ]
    },
    {
     "name": "stdout",
     "output_type": "stream",
     "text": [
      "New car found: 6 in link https://cars.ksl.com/listing/6269401\n"
     ]
    },
    {
     "name": "stderr",
     "output_type": "stream",
     "text": [
      "\r",
      "  7% (7 of 96) |#                        | Elapsed Time: 0:00:09 ETA:   0:02:31"
     ]
    },
    {
     "name": "stdout",
     "output_type": "stream",
     "text": [
      "New car found: 7 in link https://cars.ksl.com/listing/6164120\n"
     ]
    },
    {
     "name": "stderr",
     "output_type": "stream",
     "text": [
      "\r",
      "  8% (8 of 96) |##                       | Elapsed Time: 0:00:11 ETA:   0:03:06"
     ]
    },
    {
     "name": "stdout",
     "output_type": "stream",
     "text": [
      "New car found: 8 in link https://cars.ksl.com/listing/6003460\n"
     ]
    },
    {
     "name": "stderr",
     "output_type": "stream",
     "text": [
      "\r",
      "  9% (9 of 96) |##                       | Elapsed Time: 0:00:12 ETA:   0:02:02"
     ]
    },
    {
     "name": "stdout",
     "output_type": "stream",
     "text": [
      "New car found: 9 in link https://cars.ksl.com/listing/6230637\n"
     ]
    },
    {
     "name": "stderr",
     "output_type": "stream",
     "text": [
      "\r",
      " 10% (10 of 96) |##                      | Elapsed Time: 0:00:15 ETA:   0:03:50"
     ]
    },
    {
     "name": "stdout",
     "output_type": "stream",
     "text": [
      "New car found: 10 in link https://cars.ksl.com/listing/6003454\n"
     ]
    },
    {
     "name": "stderr",
     "output_type": "stream",
     "text": [
      "\r",
      " 11% (11 of 96) |##                      | Elapsed Time: 0:00:16 ETA:   0:02:27"
     ]
    },
    {
     "name": "stdout",
     "output_type": "stream",
     "text": [
      "New car found: 11 in link https://cars.ksl.com/listing/6059583\n"
     ]
    },
    {
     "name": "stderr",
     "output_type": "stream",
     "text": [
      "\r",
      " 12% (12 of 96) |###                     | Elapsed Time: 0:00:16 ETA:   0:01:58"
     ]
    },
    {
     "name": "stdout",
     "output_type": "stream",
     "text": [
      "New car found: 12 in link https://cars.ksl.com/listing/6003452\n"
     ]
    },
    {
     "name": "stderr",
     "output_type": "stream",
     "text": [
      "\r",
      " 13% (13 of 96) |###                     | Elapsed Time: 0:00:18 ETA:   0:01:49"
     ]
    },
    {
     "name": "stdout",
     "output_type": "stream",
     "text": [
      "New car found: 13 in link https://cars.ksl.com/listing/6304320\n"
     ]
    },
    {
     "name": "stderr",
     "output_type": "stream",
     "text": [
      "\r",
      " 14% (14 of 96) |###                     | Elapsed Time: 0:00:20 ETA:   0:02:31"
     ]
    },
    {
     "name": "stdout",
     "output_type": "stream",
     "text": [
      "New car found: 14 in link https://cars.ksl.com/listing/6203559\n"
     ]
    },
    {
     "name": "stderr",
     "output_type": "stream",
     "text": [
      "\r",
      " 15% (15 of 96) |###                     | Elapsed Time: 0:00:21 ETA:   0:01:42"
     ]
    },
    {
     "name": "stdout",
     "output_type": "stream",
     "text": [
      "New car found: 15 in link https://cars.ksl.com/listing/6203558\n"
     ]
    },
    {
     "name": "stderr",
     "output_type": "stream",
     "text": [
      "\r",
      " 16% (16 of 96) |####                    | Elapsed Time: 0:00:22 ETA:   0:01:29"
     ]
    },
    {
     "name": "stdout",
     "output_type": "stream",
     "text": [
      "New car found: 16 in link https://cars.ksl.com/listing/6003451\n"
     ]
    },
    {
     "name": "stderr",
     "output_type": "stream",
     "text": [
      "\r",
      " 17% (17 of 96) |####                    | Elapsed Time: 0:00:23 ETA:   0:01:04"
     ]
    },
    {
     "name": "stdout",
     "output_type": "stream",
     "text": [
      "New car found: 17 in link https://cars.ksl.com/listing/6003449\n"
     ]
    },
    {
     "name": "stderr",
     "output_type": "stream",
     "text": [
      "\r",
      " 18% (18 of 96) |####                    | Elapsed Time: 0:00:25 ETA:   0:03:36"
     ]
    },
    {
     "name": "stdout",
     "output_type": "stream",
     "text": [
      "New car found: 18 in link https://cars.ksl.com/listing/6187664\n"
     ]
    },
    {
     "name": "stderr",
     "output_type": "stream",
     "text": [
      "\r",
      " 19% (19 of 96) |####                    | Elapsed Time: 0:00:27 ETA:   0:02:41"
     ]
    },
    {
     "name": "stdout",
     "output_type": "stream",
     "text": [
      "New car found: 19 in link https://cars.ksl.com/listing/6003446\n"
     ]
    },
    {
     "name": "stderr",
     "output_type": "stream",
     "text": [
      "\r",
      " 20% (20 of 96) |#####                   | Elapsed Time: 0:00:29 ETA:   0:02:31"
     ]
    },
    {
     "name": "stdout",
     "output_type": "stream",
     "text": [
      "New car found: 20 in link https://cars.ksl.com/listing/6203450\n"
     ]
    },
    {
     "name": "stderr",
     "output_type": "stream",
     "text": [
      "\r",
      " 21% (21 of 96) |#####                   | Elapsed Time: 0:00:31 ETA:   0:02:20"
     ]
    },
    {
     "name": "stdout",
     "output_type": "stream",
     "text": [
      "New car found: 21 in link https://cars.ksl.com/listing/6003444\n"
     ]
    },
    {
     "name": "stderr",
     "output_type": "stream",
     "text": [
      "\r",
      " 22% (22 of 96) |#####                   | Elapsed Time: 0:00:33 ETA:   0:02:20"
     ]
    },
    {
     "name": "stdout",
     "output_type": "stream",
     "text": [
      "New car found: 22 in link https://cars.ksl.com/listing/6187660\n"
     ]
    },
    {
     "name": "stderr",
     "output_type": "stream",
     "text": [
      "\r",
      " 23% (23 of 96) |#####                   | Elapsed Time: 0:00:34 ETA:   0:01:43"
     ]
    },
    {
     "name": "stdout",
     "output_type": "stream",
     "text": [
      "New car found: 23 in link https://cars.ksl.com/listing/6164186\n"
     ]
    },
    {
     "name": "stderr",
     "output_type": "stream",
     "text": [
      "\r",
      " 25% (24 of 96) |######                  | Elapsed Time: 0:00:35 ETA:   0:01:26"
     ]
    },
    {
     "name": "stdout",
     "output_type": "stream",
     "text": [
      "New car found: 24 in link https://cars.ksl.com/listing/6119349\n"
     ]
    },
    {
     "name": "stderr",
     "output_type": "stream",
     "text": [
      "\r",
      " 26% (25 of 96) |######                  | Elapsed Time: 0:00:36 ETA:   0:01:28"
     ]
    },
    {
     "name": "stdout",
     "output_type": "stream",
     "text": [
      "New car found: 25 in link https://cars.ksl.com/listing/6222626\n"
     ]
    },
    {
     "name": "stderr",
     "output_type": "stream",
     "text": [
      "\r",
      " 27% (26 of 96) |######                  | Elapsed Time: 0:00:37 ETA:   0:01:28"
     ]
    },
    {
     "name": "stdout",
     "output_type": "stream",
     "text": [
      "New car found: 26 in link https://cars.ksl.com/listing/5773461\n"
     ]
    },
    {
     "name": "stderr",
     "output_type": "stream",
     "text": [
      "\r",
      " 28% (27 of 96) |######                  | Elapsed Time: 0:00:39 ETA:   0:01:28"
     ]
    },
    {
     "name": "stdout",
     "output_type": "stream",
     "text": [
      "New car found: 27 in link https://cars.ksl.com/listing/6222663\n"
     ]
    },
    {
     "name": "stderr",
     "output_type": "stream",
     "text": [
      "\r",
      " 29% (28 of 96) |#######                 | Elapsed Time: 0:00:41 ETA:   0:02:02"
     ]
    },
    {
     "name": "stdout",
     "output_type": "stream",
     "text": [
      "New car found: 28 in link https://cars.ksl.com/listing/6143414\n"
     ]
    },
    {
     "name": "stderr",
     "output_type": "stream",
     "text": [
      "100% (96 of 96) |########################| Elapsed Time: 0:00:43 Time:  0:00:43\n"
     ]
    },
    {
     "name": "stdout",
     "output_type": "stream",
     "text": [
      "************ Found end of new data ************\n",
      "var type of all_cars is: <class 'pandas.core.frame.DataFrame'>\n",
      "More results? 0\n"
     ]
    }
   ],
   "source": [
    "# Now scrape for more cars and check for timestamp\n",
    "\n",
    "# Define root url for KSL cars\n",
    "rooturl = \"https://cars.ksl.com\"\n",
    "\n",
    "lurl = \"https://cars.ksl.com/search/newUsed/Used;Certified/perPage/96/page/\"\n",
    "\n",
    "count = 0\n",
    "newer_cars = []\n",
    "moreresults = 1\n",
    "while moreresults:\n",
    "    url = lurl + str(count)\n",
    "    curr_cars, moreresults = carscraper(url, rooturl, rep_ts)\n",
    "    count += 1    \n",
    "#     print(f'More results? {moreresults}')\n",
    "    if type(curr_cars) is pd.core.frame.DataFrame: # make sure real data was returned\n",
    "        try:\n",
    "            newer_cars = pd.concat([newer_cars, curr_cars], ignore_index=True)\n",
    "        except:\n",
    "            newer_cars = curr_cars\n",
    "    else:\n",
    "        print('No newer car data found!')\n",
    "    \n",
    "# add newer_cars\n",
    "if type(newer_cars) is pd.core.frame.DataFrame:\n",
    "    all_cars_UPDATED = pd.concat([newer_cars, all_cars], ignore_index=True)"
   ]
  },
  {
   "cell_type": "code",
   "execution_count": 9,
   "metadata": {},
   "outputs": [],
   "source": [
    "# Save updated dataframe to csv\n",
    "\n",
    "all_cars_UPDATED.to_csv('data/all_cars_UPDATED.csv', index=False) # in later iterations, remove the \"_UPDATED\" part of filename"
   ]
  },
  {
   "cell_type": "code",
   "execution_count": 10,
   "metadata": {},
   "outputs": [
    {
     "data": {
      "text/html": [
       "<div>\n",
       "<style scoped>\n",
       "    .dataframe tbody tr th:only-of-type {\n",
       "        vertical-align: middle;\n",
       "    }\n",
       "\n",
       "    .dataframe tbody tr th {\n",
       "        vertical-align: top;\n",
       "    }\n",
       "\n",
       "    .dataframe thead th {\n",
       "        text-align: right;\n",
       "    }\n",
       "</style>\n",
       "<table border=\"1\" class=\"dataframe\">\n",
       "  <thead>\n",
       "    <tr style=\"text-align: right;\">\n",
       "      <th></th>\n",
       "      <th>timestamp</th>\n",
       "      <th>price</th>\n",
       "      <th>year</th>\n",
       "      <th>make</th>\n",
       "      <th>model</th>\n",
       "      <th>body</th>\n",
       "      <th>mileage</th>\n",
       "      <th>title_type</th>\n",
       "      <th>city</th>\n",
       "      <th>state</th>\n",
       "      <th>...</th>\n",
       "      <th>ext_color</th>\n",
       "      <th>int_color</th>\n",
       "      <th>transmission</th>\n",
       "      <th>liters</th>\n",
       "      <th>cylinders</th>\n",
       "      <th>fuel_type</th>\n",
       "      <th>num_doors</th>\n",
       "      <th>ext_condition</th>\n",
       "      <th>int_condition</th>\n",
       "      <th>drive_type</th>\n",
       "    </tr>\n",
       "  </thead>\n",
       "  <tbody>\n",
       "    <tr>\n",
       "      <td>0</td>\n",
       "      <td>1584032993</td>\n",
       "      <td>23566</td>\n",
       "      <td>2018</td>\n",
       "      <td>Ford</td>\n",
       "      <td>Edge</td>\n",
       "      <td>Sport Utility</td>\n",
       "      <td>36285.0</td>\n",
       "      <td>Clean Title</td>\n",
       "      <td>Salt Lake City</td>\n",
       "      <td>UT</td>\n",
       "      <td>...</td>\n",
       "      <td>maroon</td>\n",
       "      <td>NaN</td>\n",
       "      <td>Automatic</td>\n",
       "      <td>NaN</td>\n",
       "      <td>6.0</td>\n",
       "      <td>Gasoline</td>\n",
       "      <td>4.0</td>\n",
       "      <td>NaN</td>\n",
       "      <td>NaN</td>\n",
       "      <td>AWD</td>\n",
       "    </tr>\n",
       "    <tr>\n",
       "      <td>1</td>\n",
       "      <td>1584032980</td>\n",
       "      <td>30737</td>\n",
       "      <td>2019</td>\n",
       "      <td>Ford</td>\n",
       "      <td>F-150</td>\n",
       "      <td>Truck</td>\n",
       "      <td>14012.0</td>\n",
       "      <td>NaN</td>\n",
       "      <td>Layton</td>\n",
       "      <td>UT</td>\n",
       "      <td>...</td>\n",
       "      <td>white</td>\n",
       "      <td>medium earth gray</td>\n",
       "      <td>Automatic</td>\n",
       "      <td>NaN</td>\n",
       "      <td>8.0</td>\n",
       "      <td>Flex Fuel</td>\n",
       "      <td>4.0</td>\n",
       "      <td>NaN</td>\n",
       "      <td>NaN</td>\n",
       "      <td>4-Wheel Drive</td>\n",
       "    </tr>\n",
       "    <tr>\n",
       "      <td>2</td>\n",
       "      <td>1584032980</td>\n",
       "      <td>41436</td>\n",
       "      <td>2018</td>\n",
       "      <td>Jeep</td>\n",
       "      <td>Wrangler Unlimited</td>\n",
       "      <td>Convertible</td>\n",
       "      <td>25.0</td>\n",
       "      <td>NaN</td>\n",
       "      <td>West Valley City</td>\n",
       "      <td>UT</td>\n",
       "      <td>...</td>\n",
       "      <td>xtreme purple pearlcoat</td>\n",
       "      <td>black</td>\n",
       "      <td>Automatic</td>\n",
       "      <td>NaN</td>\n",
       "      <td>6.0</td>\n",
       "      <td>Gasoline</td>\n",
       "      <td>4.0</td>\n",
       "      <td>NaN</td>\n",
       "      <td>NaN</td>\n",
       "      <td>4-Wheel Drive</td>\n",
       "    </tr>\n",
       "    <tr>\n",
       "      <td>3</td>\n",
       "      <td>1584032969</td>\n",
       "      <td>15491</td>\n",
       "      <td>2008</td>\n",
       "      <td>GMC</td>\n",
       "      <td>Yukon</td>\n",
       "      <td>Sport Utility</td>\n",
       "      <td>111188.0</td>\n",
       "      <td>Clean Title</td>\n",
       "      <td>St. George</td>\n",
       "      <td>UT</td>\n",
       "      <td>...</td>\n",
       "      <td>summit white</td>\n",
       "      <td>NaN</td>\n",
       "      <td>Automatic</td>\n",
       "      <td>NaN</td>\n",
       "      <td>8.0</td>\n",
       "      <td>Flex Fuel</td>\n",
       "      <td>NaN</td>\n",
       "      <td>NaN</td>\n",
       "      <td>NaN</td>\n",
       "      <td>4-Wheel Drive</td>\n",
       "    </tr>\n",
       "    <tr>\n",
       "      <td>4</td>\n",
       "      <td>1584032969</td>\n",
       "      <td>31560</td>\n",
       "      <td>2019</td>\n",
       "      <td>Ford</td>\n",
       "      <td>F-150</td>\n",
       "      <td>Truck</td>\n",
       "      <td>11654.0</td>\n",
       "      <td>NaN</td>\n",
       "      <td>Layton</td>\n",
       "      <td>UT</td>\n",
       "      <td>...</td>\n",
       "      <td>white</td>\n",
       "      <td>NaN</td>\n",
       "      <td>Automatic</td>\n",
       "      <td>NaN</td>\n",
       "      <td>8.0</td>\n",
       "      <td>Flex Fuel</td>\n",
       "      <td>4.0</td>\n",
       "      <td>NaN</td>\n",
       "      <td>NaN</td>\n",
       "      <td>4-Wheel Drive</td>\n",
       "    </tr>\n",
       "    <tr>\n",
       "      <td>...</td>\n",
       "      <td>...</td>\n",
       "      <td>...</td>\n",
       "      <td>...</td>\n",
       "      <td>...</td>\n",
       "      <td>...</td>\n",
       "      <td>...</td>\n",
       "      <td>...</td>\n",
       "      <td>...</td>\n",
       "      <td>...</td>\n",
       "      <td>...</td>\n",
       "      <td>...</td>\n",
       "      <td>...</td>\n",
       "      <td>...</td>\n",
       "      <td>...</td>\n",
       "      <td>...</td>\n",
       "      <td>...</td>\n",
       "      <td>...</td>\n",
       "      <td>...</td>\n",
       "      <td>...</td>\n",
       "      <td>...</td>\n",
       "      <td>...</td>\n",
       "    </tr>\n",
       "    <tr>\n",
       "      <td>216</td>\n",
       "      <td>1584030225</td>\n",
       "      <td>17989</td>\n",
       "      <td>2017</td>\n",
       "      <td>Toyota</td>\n",
       "      <td>RAV4</td>\n",
       "      <td>Sport Utility</td>\n",
       "      <td>36432.0</td>\n",
       "      <td>Clean Title</td>\n",
       "      <td>North Salt Lake</td>\n",
       "      <td>UT</td>\n",
       "      <td>...</td>\n",
       "      <td>blue</td>\n",
       "      <td>gray</td>\n",
       "      <td>Automatic</td>\n",
       "      <td>NaN</td>\n",
       "      <td>4.0</td>\n",
       "      <td>Gasoline</td>\n",
       "      <td>NaN</td>\n",
       "      <td>NaN</td>\n",
       "      <td>NaN</td>\n",
       "      <td>4-Wheel Drive</td>\n",
       "    </tr>\n",
       "    <tr>\n",
       "      <td>217</td>\n",
       "      <td>1584030215</td>\n",
       "      <td>28589</td>\n",
       "      <td>2017</td>\n",
       "      <td>Toyota</td>\n",
       "      <td>Highlander</td>\n",
       "      <td>Sport Utility</td>\n",
       "      <td>34668.0</td>\n",
       "      <td>Clean Title</td>\n",
       "      <td>North Salt Lake</td>\n",
       "      <td>UT</td>\n",
       "      <td>...</td>\n",
       "      <td>black</td>\n",
       "      <td>gray</td>\n",
       "      <td>Automatic</td>\n",
       "      <td>NaN</td>\n",
       "      <td>6.0</td>\n",
       "      <td>Gasoline</td>\n",
       "      <td>NaN</td>\n",
       "      <td>NaN</td>\n",
       "      <td>NaN</td>\n",
       "      <td>AWD</td>\n",
       "    </tr>\n",
       "    <tr>\n",
       "      <td>218</td>\n",
       "      <td>1584030207</td>\n",
       "      <td>19275</td>\n",
       "      <td>2019</td>\n",
       "      <td>Hyundai</td>\n",
       "      <td>Tucson</td>\n",
       "      <td>Sport Utility</td>\n",
       "      <td>19227.0</td>\n",
       "      <td>Clean Title</td>\n",
       "      <td>North Salt Lake</td>\n",
       "      <td>UT</td>\n",
       "      <td>...</td>\n",
       "      <td>gray</td>\n",
       "      <td>black</td>\n",
       "      <td>Automatic</td>\n",
       "      <td>NaN</td>\n",
       "      <td>4.0</td>\n",
       "      <td>Gasoline</td>\n",
       "      <td>NaN</td>\n",
       "      <td>NaN</td>\n",
       "      <td>NaN</td>\n",
       "      <td>AWD</td>\n",
       "    </tr>\n",
       "    <tr>\n",
       "      <td>219</td>\n",
       "      <td>1584030205</td>\n",
       "      <td>13995</td>\n",
       "      <td>2013</td>\n",
       "      <td>Nissan</td>\n",
       "      <td>Titan</td>\n",
       "      <td>Truck</td>\n",
       "      <td>95000.0</td>\n",
       "      <td>Clean Title</td>\n",
       "      <td>Salt Lake City</td>\n",
       "      <td>UT</td>\n",
       "      <td>...</td>\n",
       "      <td>black</td>\n",
       "      <td>tan</td>\n",
       "      <td>Automatic</td>\n",
       "      <td>NaN</td>\n",
       "      <td>8.0</td>\n",
       "      <td>Flex Fuel</td>\n",
       "      <td>4.0</td>\n",
       "      <td>Excellent</td>\n",
       "      <td>Excellent</td>\n",
       "      <td>4-Wheel Drive</td>\n",
       "    </tr>\n",
       "    <tr>\n",
       "      <td>220</td>\n",
       "      <td>1584030186</td>\n",
       "      <td>18489</td>\n",
       "      <td>2017</td>\n",
       "      <td>Toyota</td>\n",
       "      <td>RAV4</td>\n",
       "      <td>Sport Utility</td>\n",
       "      <td>35081.0</td>\n",
       "      <td>Clean Title</td>\n",
       "      <td>North Salt Lake</td>\n",
       "      <td>UT</td>\n",
       "      <td>...</td>\n",
       "      <td>silver</td>\n",
       "      <td>black</td>\n",
       "      <td>Automatic</td>\n",
       "      <td>NaN</td>\n",
       "      <td>4.0</td>\n",
       "      <td>Gasoline</td>\n",
       "      <td>NaN</td>\n",
       "      <td>NaN</td>\n",
       "      <td>NaN</td>\n",
       "      <td>4-Wheel Drive</td>\n",
       "    </tr>\n",
       "  </tbody>\n",
       "</table>\n",
       "<p>221 rows × 22 columns</p>\n",
       "</div>"
      ],
      "text/plain": [
       "      timestamp  price  year     make               model           body  \\\n",
       "0    1584032993  23566  2018     Ford                Edge  Sport Utility   \n",
       "1    1584032980  30737  2019     Ford               F-150          Truck   \n",
       "2    1584032980  41436  2018     Jeep  Wrangler Unlimited    Convertible   \n",
       "3    1584032969  15491  2008      GMC               Yukon  Sport Utility   \n",
       "4    1584032969  31560  2019     Ford               F-150          Truck   \n",
       "..          ...    ...   ...      ...                 ...            ...   \n",
       "216  1584030225  17989  2017   Toyota                RAV4  Sport Utility   \n",
       "217  1584030215  28589  2017   Toyota          Highlander  Sport Utility   \n",
       "218  1584030207  19275  2019  Hyundai              Tucson  Sport Utility   \n",
       "219  1584030205  13995  2013   Nissan               Titan          Truck   \n",
       "220  1584030186  18489  2017   Toyota                RAV4  Sport Utility   \n",
       "\n",
       "      mileage   title_type              city state  ...  \\\n",
       "0     36285.0  Clean Title    Salt Lake City    UT  ...   \n",
       "1     14012.0          NaN            Layton    UT  ...   \n",
       "2        25.0          NaN  West Valley City    UT  ...   \n",
       "3    111188.0  Clean Title        St. George    UT  ...   \n",
       "4     11654.0          NaN            Layton    UT  ...   \n",
       "..        ...          ...               ...   ...  ...   \n",
       "216   36432.0  Clean Title   North Salt Lake    UT  ...   \n",
       "217   34668.0  Clean Title   North Salt Lake    UT  ...   \n",
       "218   19227.0  Clean Title   North Salt Lake    UT  ...   \n",
       "219   95000.0  Clean Title    Salt Lake City    UT  ...   \n",
       "220   35081.0  Clean Title   North Salt Lake    UT  ...   \n",
       "\n",
       "                   ext_color          int_color transmission liters cylinders  \\\n",
       "0                     maroon                NaN    Automatic    NaN       6.0   \n",
       "1                      white  medium earth gray    Automatic    NaN       8.0   \n",
       "2    xtreme purple pearlcoat              black    Automatic    NaN       6.0   \n",
       "3               summit white                NaN    Automatic    NaN       8.0   \n",
       "4                      white                NaN    Automatic    NaN       8.0   \n",
       "..                       ...                ...          ...    ...       ...   \n",
       "216                     blue               gray    Automatic    NaN       4.0   \n",
       "217                    black               gray    Automatic    NaN       6.0   \n",
       "218                     gray              black    Automatic    NaN       4.0   \n",
       "219                    black                tan    Automatic    NaN       8.0   \n",
       "220                   silver              black    Automatic    NaN       4.0   \n",
       "\n",
       "     fuel_type  num_doors ext_condition  int_condition     drive_type  \n",
       "0     Gasoline        4.0           NaN            NaN            AWD  \n",
       "1    Flex Fuel        4.0           NaN            NaN  4-Wheel Drive  \n",
       "2     Gasoline        4.0           NaN            NaN  4-Wheel Drive  \n",
       "3    Flex Fuel        NaN           NaN            NaN  4-Wheel Drive  \n",
       "4    Flex Fuel        4.0           NaN            NaN  4-Wheel Drive  \n",
       "..         ...        ...           ...            ...            ...  \n",
       "216   Gasoline        NaN           NaN            NaN  4-Wheel Drive  \n",
       "217   Gasoline        NaN           NaN            NaN            AWD  \n",
       "218   Gasoline        NaN           NaN            NaN            AWD  \n",
       "219  Flex Fuel        4.0     Excellent      Excellent  4-Wheel Drive  \n",
       "220   Gasoline        NaN           NaN            NaN  4-Wheel Drive  \n",
       "\n",
       "[221 rows x 22 columns]"
      ]
     },
     "execution_count": 10,
     "metadata": {},
     "output_type": "execute_result"
    }
   ],
   "source": [
    "# Load updated dataframe\n",
    "all_cars_UPDATED = pd.read_csv('data/all_cars_UPDATED.csv') # in later iterations, remove the \"_UPDATED\" part of filename\n",
    "all_cars_UPDATED"
   ]
  },
  {
   "cell_type": "code",
   "execution_count": null,
   "metadata": {},
   "outputs": [],
   "source": [
    "# Now try full thing while looping through proxies and associated user-agents\n",
    "\n"
   ]
  },
  {
   "cell_type": "code",
   "execution_count": null,
   "metadata": {},
   "outputs": [],
   "source": [
    "# Playing around with determining if car listing is still good (or if it's been removed)\n",
    "testurl = \"https://cars.ksl.com/listing/9999999\"\n",
    "\n",
    "user_agent = 'Mozilla/5.0 (Windows NT 10.0; Win64; x64) AppleWebKit/537.36 (KHTML, like Gecko) Chrome/79.0.3945.130 Safari/537.36'\n",
    "\n",
    "resp = requests.get(testurl, headers = {'User-Agent': user_agent})\n",
    "lsthtml = resp.content\n",
    "lstsoup = BeautifulSoup(lsthtml)\n",
    "\n",
    "if lstsoup.title.text.strip().lower() == 'not found':\n",
    "    print('bad link')"
   ]
  },
  {
   "cell_type": "code",
   "execution_count": null,
   "metadata": {},
   "outputs": [],
   "source": [
    "# Playing around with timestamps for use when checking for new data\n",
    "\n",
    "print(datetime.fromtimestamp(all_cars['timestamp'][0]).isoformat())\n",
    "print(datetime.now())\n",
    "currtime = time.time()\n",
    "print(currtime)\n",
    "print(datetime.fromtimestamp(currtime).isoformat())"
   ]
  },
  {
   "cell_type": "code",
   "execution_count": null,
   "metadata": {},
   "outputs": [],
   "source": [
    "# Example of working live html parser without crawler block and user-agent spoof\n",
    "\n",
    "# url = \"http://www.python.org\"\n",
    "# resp = requests.get(url)\n",
    "# html = resp.content\n",
    "# print(html)"
   ]
  },
  {
   "cell_type": "code",
   "execution_count": null,
   "metadata": {},
   "outputs": [],
   "source": [
    "#################################################\n",
    "####### DEPRECATED AS OF MARCH 12, 2020 #########\n",
    "#################################################\n",
    "\n",
    "# TCH: Many functionalities implemented in the carscraper function have not been copied over to this cell block\n",
    "\n",
    "\n",
    "### Working example for a SINGLE KSL search results page\n",
    "\n",
    "# maxresults = 20 # Set max number of listings to parse (per search results page)\n",
    "\n",
    "# # Define root url for KSL cars\n",
    "# rooturl = \"https://cars.ksl.com\"\n",
    "\n",
    "# # Note the url below specifies that we're looking for 96 per page and the default sort of newest to oldest posting\n",
    "# # This note about newest to oldest is useful so that we can avoid scraping repeat listings based on their timestamps\n",
    "# url = \"https://cars.ksl.com/search/newUsed/Used;Certified/perPage/96/page/0\"\n",
    "\n",
    "# # Need to spoof a user-agent in order to get past crawler block\n",
    "# user_agent = 'Mozilla/5.0 (Windows NT 10.0; Win64; x64) AppleWebKit/537.36 (KHTML, like Gecko) Chrome/79.0.3945.130 Safari/537.36'\n",
    "\n",
    "# # Note: The above user_agent might need to be rotated (along with IP) to avoid IP ban\n",
    "# # Example found on https://www.scrapehero.com/how-to-fake-and-rotate-user-agents-using-python-3/\n",
    "\n",
    "# all_cars = []\n",
    "\n",
    "# # Open live page (as opposed to downloaded)\n",
    "# resp = requests.get(url, headers = {'User-Agent': user_agent})\n",
    "# html = resp.content\n",
    "# pgsoup = BeautifulSoup(html)\n",
    "# lastpg = int(pgsoup.find(attrs={\"title\": \"Go to last page\"}).text.strip()) # Note that this is 1 more than number from href for this page\n",
    "# # print(f'Total number of search results pages: {lastpg}')\n",
    "# # print()\n",
    "\n",
    "# links = pgsoup.select(\"div.title > a.link\") # grab all 96 (or up to 96) links\n",
    "# # print(f'Total number of links found on current page: {len(links)}')\n",
    "# tstamps = pgsoup.select(\"div.listing-detail-line script\") # grab all 96 (or up to 96) timestamps\n",
    "# # print(f'Total number of timestamps found on current page: {len(tstamps)}')\n",
    "\n",
    "# # print()\n",
    "\n",
    "# # for tstamp in tstamps:\n",
    "# #     print(int(re.search('(\\d+)',tstamp.text).group(0))) # <-- This is WORKING code to extract timestamp for each listing from search page\n",
    "# # print()\n",
    "\n",
    "# print(f'Limiting Subsequent Listing Results to {maxresults}')\n",
    "\n",
    "# # Loop through links and scrape data for each new listing\n",
    "# with progressbar.ProgressBar(max_value=maxresults) as bar:\n",
    "#     for idx, link in enumerate(links[:maxresults]): # *** only load first x results for now to avoid ban before implementing spoofing\n",
    "\n",
    "#         # Reset all fields to None before next loop\n",
    "#         price=year=make=model=body=mileage=title_type=city=state=seller=None\n",
    "#         trim=ext_color=int_color=transmission=liters=cylinders=fuel_type=num_doors=ext_condition=int_condition=drive_type=None\n",
    "        \n",
    "#         # We're going to want to strip the \"?ad_cid=[number]\" from the end of these links as they're not needed to load the page properly\n",
    "#         # Regular expressions should come in handy here\n",
    "\n",
    "#         cutidx = re.search('(\\?ad_cid=.+)',link['href']).start()\n",
    "#         currlink = link['href'][:cutidx]\n",
    "\n",
    "#         # Somewhere here we should do a check to make sure that the timestamp for currlink is newer than our newest file in our repository\n",
    "#         # That is, compare the timestamps with a simple conditional, where if the conditional is not met, this loop breaks to avoid useless computation time\n",
    "\n",
    "#         # Open listing link and pull html from it\n",
    "#         fulllink = '/'.join([rooturl.rstrip('/'), currlink.lstrip('/')])\n",
    "\n",
    "#         resp = requests.get(fulllink, headers = {'User-Agent': user_agent})\n",
    "#         lsthtml = resp.content\n",
    "#         lstsoup = BeautifulSoup(lsthtml)\n",
    "\n",
    "#         # Get listing price\n",
    "#         price = lstsoup.select('h3.price')[0].text.strip().replace('$','').replace(',','')\n",
    "\n",
    "#         # Get seller's location\n",
    "#         location = lstsoup.select('h2.location > a')[0].text.strip()\n",
    "#         city, state = location.split(',')\n",
    "#         city = city.strip()\n",
    "#         state = state.strip()\n",
    "\n",
    "#         # Get seller type (dealer or owner)\n",
    "#         sellerstr = lstsoup.select('div.fsbo')[0].text.strip()\n",
    "#         if re.search('(Dealer)', sellerstr):\n",
    "#             seller = 'Dealer'\n",
    "#         elif re.search('(Owner)', sellerstr):\n",
    "#             seller = 'Owner'\n",
    "\n",
    "#         # Get timestamp\n",
    "#         tstamp = int(re.search('(\\d+)',tstamps[idx].text).group(0))\n",
    "\n",
    "#         # Get table of car specs\n",
    "#         specs = lstsoup.select('ul.listing-specifications')\n",
    "\n",
    "#         for li in specs[0].find_all('li'):\n",
    "#             lititle = li.select('span.title')[0].text.strip().strip(':')\n",
    "#             livalue = li.select('span.value')[0].text.strip().strip(':')\n",
    "            \n",
    "#             if livalue.lower() == 'not specified':\n",
    "#                 livalue = None\n",
    "\n",
    "#             # Now a bunch of if-else statements to determine which column to add data to\n",
    "#             # There might be a more sophisticated way to do this, perhaps with a tuple or a dictionary?\n",
    "#             if lititle.lower() == 'year':\n",
    "#                 if livalue:\n",
    "#                     year = int(livalue)\n",
    "#                 else:\n",
    "#                     year = livalue\n",
    "#             elif lititle.lower() == 'make':\n",
    "#                 make = livalue\n",
    "#             elif lititle.lower() == 'model':\n",
    "#                 model = livalue\n",
    "#             elif lititle.lower() == 'body':\n",
    "#                 body = livalue\n",
    "#             elif lititle.lower() == 'mileage':\n",
    "#                 if livalue:\n",
    "#                     mileage = int(livalue.replace(',',''))\n",
    "#                 else:\n",
    "#                     mileage = livalue\n",
    "#             elif lititle.lower() == 'title type':\n",
    "#                 title_type = livalue\n",
    "                \n",
    "#             # Below this are non-required specs    \n",
    "#             elif lititle.lower() == 'trim':\n",
    "#                 trim = livalue\n",
    "#             elif lititle.lower() == 'exterior color':\n",
    "#                 if livalue:\n",
    "#                     ext_color = livalue.lower()\n",
    "#                 else:\n",
    "#                     ext_color = livalue\n",
    "#             elif lititle.lower() == 'interior color':\n",
    "#                 if livalue:\n",
    "#                     int_color = livalue.lower()\n",
    "#                 else:\n",
    "#                     int_color = livalue\n",
    "#             elif lititle.lower() == 'transmission':\n",
    "#                 transmission = livalue\n",
    "#             elif lititle.lower() == 'liters':\n",
    "#                 try:\n",
    "#                     liters = float(livalue)\n",
    "#                 except:\n",
    "#                     if livalue:\n",
    "#                         str1 = re.search('^(.*?)L',livalue).group(0).strip().replace(' ','')\n",
    "#                         if re.search('^(\\D+)',str1):\n",
    "#                             idxend = re.search('^(\\D+)',str1).end()\n",
    "#                             livalue = str1[idxend:-1]\n",
    "#                         else:\n",
    "#                             livalue = str1[:-1]\n",
    "#                         livalue = float(livalue)\n",
    "#                     else:\n",
    "#                         liters = livalue\n",
    "#             elif lititle.lower() == 'cylinders':\n",
    "#                 if livalue:\n",
    "#                     cylinders = int(livalue)\n",
    "#                 else:\n",
    "#                     cylinders = livalue\n",
    "#             elif lititle.lower() == 'fuel type':\n",
    "#                 fuel_type = livalue\n",
    "#             elif lititle.lower() == 'number of doors':\n",
    "#                 if livalue:\n",
    "#                     num_doors = int(livalue)\n",
    "#                 else:\n",
    "#                     num_doors = livalue\n",
    "#             elif lititle.lower() == 'exterior condition':\n",
    "#                 ext_condition = livalue\n",
    "#             elif lititle.lower() == 'interior condition':\n",
    "#                 int_condition = livalue\n",
    "#             elif lititle.lower() == 'drive type':\n",
    "#                 drive_type = livalue\n",
    "#             elif (lititle.lower() == 'vin') | (lititle.lower() == 'stock number') | (lititle.lower() == 'dealer license'):\n",
    "#                 None # Don't want to save these\n",
    "#             else:\n",
    "#                 None\n",
    "#                 print(f'Unmatched param {lititle}: {livalue}') # <-- could take advantage of some or all of these\n",
    "\n",
    "#         curr_car = pd.DataFrame({\"timestamp\":[tstamp],\n",
    "#                                  \"price\":[price],\n",
    "#                                  \"year\":[year],\n",
    "#                                  \"make\":[make],\n",
    "#                                  \"model\":[model],\n",
    "#                                  \"body\":[body],\n",
    "#                                  \"mileage\":[mileage],\n",
    "#                                  \"title_type\":[title_type],\n",
    "#                                  \"city\":[city],\n",
    "#                                  \"state\":[state],\n",
    "#                                  \"seller\":[seller],\n",
    "#                                  \"trim\":[trim],\n",
    "#                                  \"ext_color\":[ext_color],\n",
    "#                                  \"int_color\":[int_color],\n",
    "#                                  \"transmission\":[transmission],\n",
    "#                                  \"liters\":[liters],\n",
    "#                                  \"cylinders\":[cylinders],\n",
    "#                                  \"fuel_type\":[fuel_type],\n",
    "#                                  \"num_doors\":[num_doors],\n",
    "#                                  \"ext_condition\":[ext_condition],\n",
    "#                                  \"int_condition\":[int_condition],\n",
    "#                                  \"drive_type\":[drive_type]})\n",
    "#         try:\n",
    "#             all_cars = pd.concat([all_cars, curr_car])\n",
    "#         except:\n",
    "#             all_cars = curr_car\n",
    "\n",
    "#         bar.update(idx)\n",
    "        \n",
    "# all_cars = all_cars.reset_index()\n",
    "# del all_cars['index']\n",
    "# all_cars.fillna(value=pd.np.nan, inplace=True)\n",
    "# all_cars"
   ]
  }
 ],
 "metadata": {
  "kernelspec": {
   "display_name": "Python 3",
   "language": "python",
   "name": "python3"
  },
  "language_info": {
   "codemirror_mode": {
    "name": "ipython",
    "version": 3
   },
   "file_extension": ".py",
   "mimetype": "text/x-python",
   "name": "python",
   "nbconvert_exporter": "python",
   "pygments_lexer": "ipython3",
   "version": "3.7.4"
  },
  "varInspector": {
   "cols": {
    "lenName": 16,
    "lenType": 16,
    "lenVar": 40
   },
   "kernels_config": {
    "python": {
     "delete_cmd_postfix": "",
     "delete_cmd_prefix": "del ",
     "library": "var_list.py",
     "varRefreshCmd": "print(var_dic_list())"
    },
    "r": {
     "delete_cmd_postfix": ") ",
     "delete_cmd_prefix": "rm(",
     "library": "var_list.r",
     "varRefreshCmd": "cat(var_dic_list()) "
    }
   },
   "types_to_exclude": [
    "module",
    "function",
    "builtin_function_or_method",
    "instance",
    "_Feature"
   ],
   "window_display": false
  }
 },
 "nbformat": 4,
 "nbformat_minor": 2
}
