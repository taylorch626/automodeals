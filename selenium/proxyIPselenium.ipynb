{
 "cells": [
  {
   "cell_type": "markdown",
   "metadata": {},
   "source": [
    "Make sure chromedriver.exe has been added to the `PATH` before running this script. You can do so using [this guide](https://zwbetz.com/download-chromedriver-binary-and-add-to-your-path-for-automated-functional-testing/).\n",
    "The driver itself is located in the repository at `~/automodeals/selenium/chromedriver.exe`\n",
    "\n",
    "**Importantly**, make sure that the chromedriver version used (e.g. 80) is the same as the full Chrome version you have installed (e.g. 80).\n",
    "\n",
    "Chromedriver can be downloaded [here](https://sites.google.com/a/chromium.org/chromedriver/downloads)\n",
    "\n",
    "Chrome version can be found [here](https://www.whatismybrowser.com/detect/what-version-of-chrome-do-i-have)"
   ]
  },
  {
   "cell_type": "code",
   "execution_count": 5,
   "metadata": {},
   "outputs": [],
   "source": [
    "from selenium import webdriver # if not installed, do pip install selenium\n",
    "\n",
    "# Specify incognito options for Chrome\n",
    "option = webdriver.ChromeOptions()\n",
    "option.add_argument(\"--incognito\")\n",
    "\n",
    "# Create new Chrome instance\n",
    "browser = webdriver.Chrome(options=option)\n",
    "\n",
    "# Minimize window\n",
    "browser.minimize_window()\n",
    "\n",
    "# Go to desired website\n",
    "IPurl = \"https://www.us-proxy.org/\" # <-- the robots.txt file for this site allows full access for all user-agents\n",
    "browser.get(IPurl)\n",
    "\n",
    "# Filter by https only\n",
    "https_button = browser.find_elements_by_xpath(\"//*[@id='proxylisttable']/tfoot/tr/th[7]/select/option[3]\")[0]\n",
    "https_button.click()\n",
    "\n",
    "# Set to 80 results\n",
    "maxnum_button = browser.find_elements_by_xpath(\"//*[@id='proxylisttable_length']/label/select/option[3]\")[0]\n",
    "maxnum_button.click()\n",
    "\n",
    "# Grab IP's and Ports from the resulting table\n",
    "rows = browser.find_elements_by_xpath(\"//*[@id='proxylisttable']/tbody/tr\")\n",
    "\n",
    "proxies = []\n",
    "for row in rows:\n",
    "    row = row.text.split(' ')\n",
    "    \n",
    "    if row[3].strip().lower() != 'transparent': # don't want to include our real proxy when navigating KSL\n",
    "        proxies.append(''.join(['http://', ':'.join([row[0].strip(), row[1].strip()])]))\n",
    "\n",
    "# Close browser when done\n",
    "browser.close()\n",
    "\n",
    "proxies"
   ]
  }
 ],
 "metadata": {
  "kernelspec": {
   "display_name": "Python 3",
   "language": "python",
   "name": "python3"
  },
  "language_info": {
   "codemirror_mode": {
    "name": "ipython",
    "version": 3
   },
   "file_extension": ".py",
   "mimetype": "text/x-python",
   "name": "python",
   "nbconvert_exporter": "python",
   "pygments_lexer": "ipython3",
   "version": "3.7.4"
  },
  "varInspector": {
   "cols": {
    "lenName": 16,
    "lenType": 16,
    "lenVar": 40
   },
   "kernels_config": {
    "python": {
     "delete_cmd_postfix": "",
     "delete_cmd_prefix": "del ",
     "library": "var_list.py",
     "varRefreshCmd": "print(var_dic_list())"
    },
    "r": {
     "delete_cmd_postfix": ") ",
     "delete_cmd_prefix": "rm(",
     "library": "var_list.r",
     "varRefreshCmd": "cat(var_dic_list()) "
    }
   },
   "types_to_exclude": [
    "module",
    "function",
    "builtin_function_or_method",
    "instance",
    "_Feature"
   ],
   "window_display": false
  }
 },
 "nbformat": 4,
 "nbformat_minor": 2
}
