{
 "cells": [
  {
   "cell_type": "markdown",
   "metadata": {},
   "source": [
    "Our Reviewers:\n",
    "\n",
    "Kyle Cornwall\n",
    "Shushanna Mkrtychyan\n",
    "\n",
    "This is pretty similar to cargurus.com and KBB. How is this different than those existing sites?\n",
    "\n",
    "How do you know if a car has been in an accident?\n",
    "\n",
    "Look for granularity of NADAguides and devise ways that we can \"beat\" that model.\n",
    "\n",
    "Consider doing feature transformation when doing regression.\n",
    "\n",
    "Can you enhance the dataset with some other website?\n",
    "\n",
    "What features do other car valuation websites use to generate their price predictions?\n",
    "\n",
    "Can you get Carfax info from VIN? (without breaking the bank)\n",
    "\n",
    "Three potential classes when predicting a value (good, average, bad)\n",
    "\n",
    "Might need to downselect the number of cars we can predict prices for since our dataset size could be limited (i.e. top 20 most frequent cars)"
   ]
  }
 ],
 "metadata": {
  "kernelspec": {
   "display_name": "Python 3",
   "language": "python",
   "name": "python3"
  },
  "language_info": {
   "codemirror_mode": {
    "name": "ipython",
    "version": 3
   },
   "file_extension": ".py",
   "mimetype": "text/x-python",
   "name": "python",
   "nbconvert_exporter": "python",
   "pygments_lexer": "ipython3",
   "version": "3.7.4"
  },
  "varInspector": {
   "cols": {
    "lenName": 16,
    "lenType": 16,
    "lenVar": 40
   },
   "kernels_config": {
    "python": {
     "delete_cmd_postfix": "",
     "delete_cmd_prefix": "del ",
     "library": "var_list.py",
     "varRefreshCmd": "print(var_dic_list())"
    },
    "r": {
     "delete_cmd_postfix": ") ",
     "delete_cmd_prefix": "rm(",
     "library": "var_list.r",
     "varRefreshCmd": "cat(var_dic_list()) "
    }
   },
   "types_to_exclude": [
    "module",
    "function",
    "builtin_function_or_method",
    "instance",
    "_Feature"
   ],
   "window_display": false
  }
 },
 "nbformat": 4,
 "nbformat_minor": 2
}
