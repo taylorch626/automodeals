{
 "cells": [
  {
   "cell_type": "code",
   "execution_count": null,
   "metadata": {},
   "outputs": [],
   "source": [
    "import pandas as pd\n",
    "import time\n",
    "import datetime\n",
    "import progressbar\n",
    "import requests\n",
    "from bs4 import BeautifulSoup"
   ]
  },
  {
   "cell_type": "code",
   "execution_count": null,
   "metadata": {},
   "outputs": [],
   "source": [
    "def update_listing_info(cars_df, **kwargs):\n",
    "    '''Updates a cars_dataframe with 6 new columns (views, favorites, \n",
    "    workingURL, view_rate, favorite_rate, fav_per_view). \n",
    "    REQUIRED INPUTS:\n",
    "    cars_df: data frame with information as pulled from carscraper()\n",
    "    VARIABLE INPUTS:\n",
    "    min_age: int specifying minimum age (days) listing must be before updating information. Default 3\n",
    "    min_last_pull: int specifying minimum time (days) since last pull for new information. Default 1'''\n",
    "    \n",
    "    # parse kwargs/set defaults\n",
    "    if 'min_age' in kwargs.keys():\n",
    "        if isinstance(kwargs['min_age'],int):\n",
    "            min_age = kwargs['min_age']\n",
    "        else:\n",
    "            raise TypeError(f'Expected int for min_age but got {type(kwargs[\"min_age\"])}.')\n",
    "    else:\n",
    "        min_age = 3\n",
    "    if 'min_last_pull' in kwargs.keys():\n",
    "        if isinstance(kwargs['min_last_pull'],int):\n",
    "            min_last_pull = kwargs['min_last_pull']\n",
    "        else:\n",
    "            raise TypeError(f'Expected int for min_last_pull but got {type(kwargs[\"min_last_pull\"])}.')\n",
    "    else:\n",
    "        min_last_pull = 1\n",
    "\n",
    "    # new columns to add\n",
    "    cars_df['views'] = np.NaN\n",
    "    cars_df['favorites'] = np.NaN\n",
    "    cars_df['workingURL'] = 1\n",
    "    cars_df['view_rate'] = np.NaN\n",
    "    cars_df['favorite_rate'] = np.NaN\n",
    "    cars_df['fav_per_view'] = np.NaN\n",
    "    \n",
    "    # conversions to datetime\n",
    "    orig_dates = cars_df['post_date']\n",
    "    cars_df['post_date'] = pd.to_datetime(cars_df['post_date'])\n",
    "    cars_df['lastpull_ts'] = pd.to_datetime(cars_df['lastpull_ts'], unit = 's')\n",
    "\n",
    "    # find ads more than x days old (time.time() is in seconds)\n",
    "    curr_time = pd.to_datetime(time.time(),unit='s')\n",
    "    min_dt = pd.to_timedelta(min_age*60*60*24, unit='seconds') # time in seconds for use with datetime\n",
    "\n",
    "    old_ads = cars_df['post_date'] < (curr_time - min_dt)\n",
    "\n",
    "    # find ads that haven't been pulled for more than x days\n",
    "    min_last_pull_dt = pd.to_timedelta(min_last_pull*60*60*24, unit='seconds') # time in seconds for use with datetime\n",
    "    no_recent_update = cars_df['lastpull_ts'] < (curr_time - min_last_pull_dt)\n",
    "\n",
    "    # subselect ads that need updating based on previous criteria and having a working URL last time it was checked\n",
    "    cars_need_update = cars_df[old_ads & no_recent_update & cars_df['workingURL']]\n",
    "\n",
    "    user_agent = 'Mozilla/5.0 (Windows NT 10.0; Win64; x64) AppleWebKit/537.36 (KHTML, like Gecko) Chrome/74.0.3729.169 Safari/537.36'\n",
    "\n",
    "    # iterate through, pulling new information from each ad\n",
    "    last_pull = []\n",
    "    views = []\n",
    "    favorites = []\n",
    "    working_url = []\n",
    "    with progressbar.ProgressBar(max_value=len(cars_need_update.index)) as bar:\n",
    "        for i, ad in cars_need_update.iterrows():\n",
    "            ad_response = requests.get(ad['link'], headers = {'User-Agent': user_agent})\n",
    "            pull_ts = pd.to_datetime(time.time(), unit='s')\n",
    "            last_pull.append(pull_ts)\n",
    "            ad_soup = BeautifulSoup(ad_response.content)\n",
    "\n",
    "            # Check if link is still good (i.e. listing is still active)\n",
    "            if ad_soup.title.text.strip().lower() == 'not found':\n",
    "                working_url.append(0)\n",
    "                views.append(None)\n",
    "                favorites.append(None)\n",
    "            else:\n",
    "                working_url.append(1)\n",
    "\n",
    "                # get views\n",
    "                viewcount = int(ad_soup.select('span.vdp-info-value')[1].text.split()[0])\n",
    "                views.append(viewcount)\n",
    "\n",
    "                # get favorites\n",
    "                favoritecount = int(ad_soup.select('span.vdp-info-value')[2].text.split()[0])\n",
    "                favorites.append(favoritecount)\n",
    "            bar.update(i)\n",
    "            \n",
    "    cars_updated = cars_need_update\n",
    "    cars_updated['views'] = views\n",
    "    cars_updated['favorites'] = favorites\n",
    "    cars_updated['lastpull_ts'] = last_pull\n",
    "    cars_updated['workingURL'] = working_url\n",
    "    cars_updated['fav_per_view'] = cars_updated['favorites'] / cars_updated['views']\n",
    "    # rates calculated per day\n",
    "    cars_updated['view_rate'] = cars_updated['views'] / ((cars_updated['lastpull_ts'] - cars_updated['post_date']).dt.total_seconds()*60*60*24)\n",
    "    cars_updated['favorite_rate'] = cars_updated['favorites'] / ((cars_updated['lastpull_ts'] - cars_updated['post_date']).dt.total_seconds()*60*60*24)\n",
    "\n",
    "    cars_df.update(cars_updated)\n",
    "    \n",
    "    # update timestamps to replicate original state\n",
    "    cars_df['lastpull_ts'] = (cars_df['lastpull_ts'] - datetime.datetime(1970,1,1)).dt.total_seconds().astype(int)\n",
    "    cars_df['post_date'] = orig_dates\n",
    "    \n",
    "    return cars_df"
   ]
  },
  {
   "cell_type": "code",
   "execution_count": null,
   "metadata": {},
   "outputs": [],
   "source": [
    "cars_df = pd.read_csv('data/all_cars.csv')\n",
    "\n",
    "# cars_df = cars_df.iloc[:20,:]\n",
    "cars_df = update_listing_info(cars_df,min_age=0,min_last_pull=0)\n",
    "cars_df.to_csv('data/all_cars_view_fav.csv',index=False)\n",
    "\n",
    "cars_df.head()"
   ]
  },
  {
   "cell_type": "code",
   "execution_count": null,
   "metadata": {},
   "outputs": [],
   "source": [
    "pd.to_timedelta(cars_df['lastpull_ts'])"
   ]
  },
  {
   "cell_type": "code",
   "execution_count": null,
   "metadata": {},
   "outputs": [],
   "source": [
    "cars_df['lastpull_ts'] = (cars_df['lastpull_ts'] - datetime.datetime(1970,1,1)).dt.total_seconds().astype(int)"
   ]
  }
 ],
 "metadata": {
  "kernelspec": {
   "display_name": "Python 3",
   "language": "python",
   "name": "python3"
  },
  "language_info": {
   "codemirror_mode": {
    "name": "ipython",
    "version": 3
   },
   "file_extension": ".py",
   "mimetype": "text/x-python",
   "name": "python",
   "nbconvert_exporter": "python",
   "pygments_lexer": "ipython3",
   "version": "3.7.4"
  },
  "varInspector": {
   "cols": {
    "lenName": 16,
    "lenType": 16,
    "lenVar": 40
   },
   "kernels_config": {
    "python": {
     "delete_cmd_postfix": "",
     "delete_cmd_prefix": "del ",
     "library": "var_list.py",
     "varRefreshCmd": "print(var_dic_list())"
    },
    "r": {
     "delete_cmd_postfix": ") ",
     "delete_cmd_prefix": "rm(",
     "library": "var_list.r",
     "varRefreshCmd": "cat(var_dic_list()) "
    }
   },
   "position": {
    "height": "337.85px",
    "left": "1550px",
    "right": "20px",
    "top": "120px",
    "width": "350px"
   },
   "types_to_exclude": [
    "module",
    "function",
    "builtin_function_or_method",
    "instance",
    "_Feature"
   ],
   "window_display": true
  }
 },
 "nbformat": 4,
 "nbformat_minor": 4
}
