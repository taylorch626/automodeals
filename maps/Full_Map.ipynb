{
 "cells": [
  {
   "cell_type": "code",
   "execution_count": null,
   "metadata": {},
   "outputs": [],
   "source": [
    "import numpy as np\n",
    "import pandas as pd\n",
    "import scipy as sc\n",
    "import os\n",
    "import matplotlib.pyplot as plt\n",
    "from pandas.plotting import scatter_matrix\n",
    "import statsmodels.formula.api as sm\n",
    "import seaborn as sns\n",
    "\n",
    "%matplotlib inline\n",
    "plt.rcParams['figure.figsize'] = (10, 10)\n",
    "plt.style.use('ggplot')"
   ]
  },
  {
   "cell_type": "code",
   "execution_count": null,
   "metadata": {},
   "outputs": [],
   "source": [
    "import json, pickle\n",
    "from ipyleaflet import Map, basemaps, GeoJSON, Popup, FullScreenControl, CircleMarker, LayerGroup\n",
    "# if above module isn't installed, do BOTH of the following:\n",
    "# pip install ipyleaflet\n",
    "# jupyter nbextension enable --py --sys-prefix ipyleaflet\n",
    "\n",
    "from ipywidgets import HTML"
   ]
  },
  {
   "cell_type": "code",
   "execution_count": null,
   "metadata": {},
   "outputs": [],
   "source": [
    "origdir = os.getcwd()\n",
    "os.chdir('..')"
   ]
  },
  {
   "cell_type": "code",
   "execution_count": null,
   "metadata": {},
   "outputs": [],
   "source": [
    "# Read in scraped car data\n",
    "data_file = os.path.join(os.getcwd(),\"data\",\"all_cars.csv\")  \n",
    "cars = pd.read_csv(data_file)\n",
    "# cars = pd.read_pickle('cars.pkl')\n",
    "pd.set_option(\"display.max_rows\",None,\"display.max_columns\",None) \n",
    "\n",
    "# Recast data\n",
    "cars['mileage'] = cars['mileage'].astype('float')\n",
    "cars['year'] = cars['year'].astype('float')\n",
    "\n",
    "# Clean price data and recast\n",
    "ugly_cars = cars[cars['price'].str.contains('MSRP')]\n",
    "ugly_cars.index\n",
    "for index, car in ugly_cars.iterrows():\n",
    "    if '|' not in car['price']:\n",
    "        cars.at[index,'price'] = None\n",
    "    else:\n",
    "        cars.at[index,'price'] = car['price'].split('|')[0].strip()\n",
    "cars['price'] = cars['price'].astype('float')"
   ]
  },
  {
   "cell_type": "code",
   "execution_count": null,
   "metadata": {},
   "outputs": [],
   "source": [
    "os.chdir(origdir)"
   ]
  },
  {
   "cell_type": "code",
   "execution_count": null,
   "metadata": {},
   "outputs": [],
   "source": [
    "# Data clean up\n",
    "# Check year\n",
    "# any cars with a year less than 1920 changed to None\n",
    "cars.loc[(cars.year < 1920),'year']=None \n",
    "\n",
    "# Check price\n",
    "# any cars with a price less than $100 or greater than $500,000 changed to None\n",
    "cars.loc[(cars.price < 100),'price']=None \n",
    "cars.loc[(cars.price > 500000),'price']=None \n",
    "\n",
    "# Check Mileage\n",
    "# any cars with a mileage greater than 500000 changed to None\n",
    "cars.loc[(cars.mileage > 500000),'mileage']=None \n",
    "\n",
    "# Check Liters\n",
    "# any cars with a mileage greater than 500000 changed to None\n",
    "cars.loc[(cars.liters > 100),'liters']=None\n",
    "\n",
    "# Check fav_per_view\n",
    "# any cars with inf or Nan changed to None\n",
    "cars.loc[(cars.fav_per_view > 2),'fav_per_view']=None "
   ]
  },
  {
   "cell_type": "code",
   "execution_count": null,
   "metadata": {},
   "outputs": [],
   "source": [
    "cars.head(15)"
   ]
  },
  {
   "cell_type": "code",
   "execution_count": null,
   "metadata": {},
   "outputs": [],
   "source": [
    "# Add in a city, state column\n",
    "cars['citystate_abb'] = cars[['city', 'state']].apply(lambda x: ', '.join(x.astype(str)), axis=1)\n",
    "\n",
    "# only get non-null expected price rows\n",
    "good_cars = cars[cars.expected_price.notnull()]"
   ]
  },
  {
   "cell_type": "code",
   "execution_count": null,
   "metadata": {},
   "outputs": [],
   "source": [
    "# load zip code coordinates\n",
    "with open('zip_coord_api.pkl','rb') as handle:\n",
    "    zip_coord = pickle.load(handle)"
   ]
  },
  {
   "cell_type": "code",
   "execution_count": null,
   "metadata": {},
   "outputs": [],
   "source": [
    "# reverse the ZIP:lat/long dictionary\n",
    "coor_zip = {str(round(v[0], 3))+str(round(v[1], 3)): k for k, v in zip_coor.items()}\n",
    "\n",
    "if len(coor_zip) != len(zip_coor):\n",
    "    raise ValueError('the reversed ZIP code dictionary had a different number of keys than the original')"
   ]
  },
  {
   "cell_type": "code",
   "execution_count": null,
   "metadata": {},
   "outputs": [],
   "source": [
    "import random\n",
    "random.randint(0,4)\n",
    "colors = ['red', 'orange', 'green']"
   ]
  },
  {
   "cell_type": "code",
   "execution_count": null,
   "metadata": {},
   "outputs": [],
   "source": [
    "utah_center = [39.3210, -111.0937]\n",
    "zoom = 6\n",
    "m = Map(basemap=basemaps.OpenStreetMap.Mapnik, center=utah_center, zoom=zoom)\n",
    "m.add_control(FullScreenControl())\n",
    "\n",
    "# create a layer group \n",
    "layer_group = LayerGroup()\n",
    "for zipp, coord in zip_coord.items():\n",
    "    circle = CircleMarker()\n",
    "    circle.location = coord\n",
    "    circle.radius = random.randint(1,10)\n",
    "    circle.weight = 2\n",
    "    circle.opacity = 0.8\n",
    "    color = random.randint(0,2)\n",
    "    circle.color = colors[color]\n",
    "    circle.fill_color = colors[color]\n",
    "    circle.fill_opacity = 0.3\n",
    "    layer_group.add_layer(circle)\n",
    "    \n",
    "\n",
    "m.add_layer(layer_group)\n",
    "m"
   ]
  },
  {
   "cell_type": "code",
   "execution_count": null,
   "metadata": {},
   "outputs": [],
   "source": [
    "# use mouseover and mouseout events in CircleMarker class\n",
    "\n",
    "# grab a few locations and associated data\n",
    "loc0 = good_cars.loc[cars['city'] == 'Salt Lake City'].zip_code.mode()[0]\n",
    "loc1 = good_cars.loc[cars['city'] == 'Sandy'].zip_code.mode()[0]\n",
    "loc2 = good_cars.loc[cars['city'] == 'West Jordan'].zip_code.mode()[0]\n",
    "print(f'coordinates for {loc0} are {zip_coor[loc0]}')\n",
    "print(f'coordinates for {loc1} are {zip_coor[loc1]}')\n",
    "print(f'coordinates for {loc2} are {zip_coor[loc2]}')\n",
    "subdf0 = cars.loc[cars['zip_code'] == loc0]\n",
    "subdf1 = cars.loc[cars['zip_code'] == loc1]\n",
    "subdf2 = cars.loc[cars['zip_code'] == loc2]\n",
    "\n",
    "# from ipyleaflet import Map, basemaps, GeoJSON, Popup, FullScreenControl, CircleMarker, MarkerCluster\n",
    "# from traitlets import Instance, Dict, List, Int, Unicode\n",
    "# from ipywidgets import CallbackDispatcher, HTML\n",
    "\n",
    "center = [40.7608, -111.8910] # SLC, UT\n",
    "zoom = 8\n",
    "m = Map(basemap=basemaps.OpenStreetMap.Mapnik, center=center, zoom=zoom)\n",
    "m.add_control(FullScreenControl())\n",
    "\n",
    "def hover_on(event, type, coordinates):\n",
    "    # use coordinates to reverse look up data associated with those coordinates\n",
    "    currzip = coor_zip[str(round(coordinates[0], 3))+str(round(coordinates[1], 3))]\n",
    "    currdata = cars.loc[cars['zip_code'] == currzip]\n",
    "    currlabel = currdata.citystate_abb.mode()[0]\n",
    "    currtotal = \"{:,}\".format(currdata.shape[0])\n",
    "    currmedprice = \"{:,}\".format(int(currdata.price.median()))\n",
    "    currmedmile = \"{:,}\".format(int(currdata.mileage.median()))\n",
    "    currmedyear = str(int(currdata.year.median()))\n",
    "    currcommcar = str(currdata.make.mode()[0]) + ' ' + str(currdata.model.mode()[0])\n",
    "    \n",
    "    # remove old popup layer\n",
    "    if isinstance(m.layers[-1], Popup):\n",
    "        m.remove_layer(m.layers[-1])\n",
    "\n",
    "    # add a popup layer on hover over a city\n",
    "    message = HTML()\n",
    "\n",
    "    message.value = ('<h4><strong>' + currlabel + '</strong></h4>' +\n",
    "                     '<table>' +\n",
    "                         '<tr><td>Total Cars:&emsp;</td><td>' + currtotal + '</td></tr>' +\n",
    "                         '<tr><td>Median Price:&emsp;</td><td>$' + currmedprice + '</td></tr>' +\n",
    "                         '<tr><td>Median Mileage:&emsp;</td><td>' + currmedmile + '</td></tr>' +\n",
    "                         '<tr><td>Median Year:&emsp;</td><td>' + currmedyear + '</td></tr>' +\n",
    "                         '<tr><td>Most Common Car:&emsp;</td><td>' + currcommcar + '</td></tr>' +\n",
    "                     '</table>')\n",
    "    \n",
    "    popup = Popup(location=coordinates, child=message, close_button=False, auto_close=True, close_on_escape_key=False)\n",
    "\n",
    "    m.add_layer(popup) # add the new layer\n",
    "\n",
    "circobj0 = CircleMarker(location = zip_coor[loc0])\n",
    "circobj0.on_mouseover(hover_on)\n",
    "\n",
    "circobj1 = CircleMarker(location = zip_coor[loc1])\n",
    "circobj1.on_mouseover(hover_on)\n",
    "\n",
    "circobj2 = CircleMarker(location = zip_coor[loc2])\n",
    "circobj2.on_mouseover(hover_on)\n",
    "\n",
    "m.add_layer(circobj0)\n",
    "m.add_layer(circobj1)\n",
    "m.add_layer(circobj2)\n",
    "m"
   ]
  }
 ],
 "metadata": {
  "kernelspec": {
   "display_name": "Python 3",
   "language": "python",
   "name": "python3"
  },
  "language_info": {
   "codemirror_mode": {
    "name": "ipython",
    "version": 3
   },
   "file_extension": ".py",
   "mimetype": "text/x-python",
   "name": "python",
   "nbconvert_exporter": "python",
   "pygments_lexer": "ipython3",
   "version": "3.7.4"
  },
  "varInspector": {
   "cols": {
    "lenName": 16,
    "lenType": 16,
    "lenVar": 40
   },
   "kernels_config": {
    "python": {
     "delete_cmd_postfix": "",
     "delete_cmd_prefix": "del ",
     "library": "var_list.py",
     "varRefreshCmd": "print(var_dic_list())"
    },
    "r": {
     "delete_cmd_postfix": ") ",
     "delete_cmd_prefix": "rm(",
     "library": "var_list.r",
     "varRefreshCmd": "cat(var_dic_list()) "
    }
   },
   "types_to_exclude": [
    "module",
    "function",
    "builtin_function_or_method",
    "instance",
    "_Feature"
   ],
   "window_display": false
  }
 },
 "nbformat": 4,
 "nbformat_minor": 2
}
