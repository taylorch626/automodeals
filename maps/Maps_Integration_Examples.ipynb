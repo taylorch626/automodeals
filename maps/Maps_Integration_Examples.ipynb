{
 "cells": [
  {
   "cell_type": "markdown",
   "metadata": {},
   "source": [
    "# ipyleaflet\n",
    "\n",
    "Kind of like a free version of Google Maps API"
   ]
  },
  {
   "cell_type": "code",
   "execution_count": null,
   "metadata": {},
   "outputs": [],
   "source": [
    "import json\n",
    "from ipyleaflet import Map, basemaps, GeoJSON, Popup, FullScreenControl\n",
    "# if above module isn't installed, do BOTH of the following:\n",
    "# pip install ipyleaflet\n",
    "# jupyter nbextension enable --py --sys-prefix ipyleaflet\n",
    "\n",
    "from ipywidgets import HTML\n",
    "\n",
    "from polylabel import polylabel # if not installed, do pip install python-polylabel"
   ]
  },
  {
   "cell_type": "code",
   "execution_count": null,
   "metadata": {},
   "outputs": [],
   "source": [
    "# Example from https://ipyleaflet.readthedocs.io/en/latest/api_reference/basemaps.html\n",
    "\n",
    "center = [38.128, 2.588]\n",
    "zoom = 5\n",
    "\n",
    "Map(basemap=basemaps.OpenStreetMap.Mapnik, center=center, zoom=zoom)"
   ]
  },
  {
   "cell_type": "code",
   "execution_count": null,
   "metadata": {},
   "outputs": [],
   "source": [
    "# now load a more local map\n",
    "\n",
    "center = [40.7608, -111.8910] # centered on SLC, UT\n",
    "zoom = 6\n",
    "\n",
    "Map(basemap=basemaps.OpenStreetMap.Mapnik, center=center, zoom=zoom)"
   ]
  },
  {
   "cell_type": "code",
   "execution_count": null,
   "metadata": {},
   "outputs": [],
   "source": [
    "# now let's make an interactive hoverable map!\n",
    "\n",
    "# play around with json polygon data for St. George and Hurricane, UT\n",
    "\n",
    "# instructions for where to get geojson data: https://gis.stackexchange.com/questions/183248/getting-polygon-boundaries-of-city-in-json-from-google-maps-api\n",
    "# specifically the bit about adding '&format=json' to search url\n",
    "\n",
    "# center = [40.7608, -111.8910] # SLC, UT\n",
    "# center = [39.7102, -111.8363] # Nephi, UT\n",
    "center = [37.0965, -113.5684] # St. George, UT\n",
    "zoom = 9\n",
    "m = Map(basemap=basemaps.OpenStreetMap.Mapnik, center=center, zoom=zoom)\n",
    "m.add_control(FullScreenControl())\n",
    "\n",
    "# parse St. George data\n",
    "with open('polygons\\st_george_ut.json') as city_file:\n",
    "    city_data = json.load(city_file)\n",
    "city_data_1 = city_data[-1]['geojson']\n",
    "city_data_1['varinput'] = 'mystring'\n",
    "\n",
    "# parse Hurricane data\n",
    "with open('polygons\\hurricane_ut.json') as city_file:\n",
    "    city_data = json.load(city_file)\n",
    "city_data_2 = city_data[-1]['geojson']\n",
    "city_data_2['varinput'] = 'mystring2'\n",
    "    \n",
    "def tmpfunc(event, feature):\n",
    "#     print(event)\n",
    "    \n",
    "    # remove old popup layer\n",
    "    if isinstance(m.layers[-1], Popup):\n",
    "        m.remove_layer(m.layers[-1])\n",
    "    \n",
    "    # get center of current polygon\n",
    "    txt_loc = polylabel(feature['coordinates'])[::-1]\n",
    "\n",
    "    # add a popup layer on hover over a city\n",
    "    message = HTML()\n",
    "    message.value = feature['varinput']\n",
    "    popup = Popup(location=txt_loc, child=message, close_button=False, auto_close=True, close_on_escape_key=False)\n",
    "\n",
    "    m.add_layer(popup) # add the new layer\n",
    "\n",
    "# create the GeoJSON layers (polygons overlaying each city)\n",
    "geo_json_1 = GeoJSON(data=city_data_1, style = {'color': 'red', 'opacity':1, 'weight':1.9, 'fillOpacity':0.3})\n",
    "geo_json_2 = GeoJSON(data=city_data_2, style = {'color': 'orange', 'opacity':1, 'weight':1.9, 'fillOpacity':0.3})\n",
    "geo_json_1.on_hover(tmpfunc)\n",
    "geo_json_2.on_hover(tmpfunc)\n",
    "m.add_layer(geo_json_1)\n",
    "m.add_layer(geo_json_2)\n",
    "\n",
    "m"
   ]
  },
  {
   "cell_type": "markdown",
   "metadata": {},
   "source": [
    "# Gmaps (Google Maps)\n",
    "\n",
    "Note: to avoid the watermark, you have to sign up for a billing service for your API account as of June 2018"
   ]
  },
  {
   "cell_type": "code",
   "execution_count": null,
   "metadata": {},
   "outputs": [],
   "source": [
    "# Example from gmaps documentation at https://jupyter-gmaps.readthedocs.io/en/latest/tutorial.html\n",
    "\n",
    "import gmaps\n",
    "import gmaps.datasets"
   ]
  },
  {
   "cell_type": "code",
   "execution_count": null,
   "metadata": {},
   "outputs": [],
   "source": [
    "earthquake_df = gmaps.datasets.load_dataset_as_df('earthquakes')\n",
    "earthquake_df.head()"
   ]
  },
  {
   "cell_type": "code",
   "execution_count": null,
   "metadata": {},
   "outputs": [],
   "source": [
    "locations = earthquake_df[['latitude', 'longitude']]\n",
    "weights = earthquake_df['magnitude']\n",
    "fig = gmaps.figure()\n",
    "fig.add_layer(gmaps.heatmap_layer(locations, weights=weights))\n",
    "fig"
   ]
  },
  {
   "cell_type": "code",
   "execution_count": null,
   "metadata": {},
   "outputs": [],
   "source": [
    "new_york_coordinates = (40.75, -74.00)\n",
    "gmaps.figure(center=new_york_coordinates, zoom_level=12)"
   ]
  }
 ],
 "metadata": {
  "kernelspec": {
   "display_name": "Python 3",
   "language": "python",
   "name": "python3"
  },
  "language_info": {
   "codemirror_mode": {
    "name": "ipython",
    "version": 3
   },
   "file_extension": ".py",
   "mimetype": "text/x-python",
   "name": "python",
   "nbconvert_exporter": "python",
   "pygments_lexer": "ipython3",
   "version": "3.7.4"
  },
  "varInspector": {
   "cols": {
    "lenName": 16,
    "lenType": 16,
    "lenVar": 40
   },
   "kernels_config": {
    "python": {
     "delete_cmd_postfix": "",
     "delete_cmd_prefix": "del ",
     "library": "var_list.py",
     "varRefreshCmd": "print(var_dic_list())"
    },
    "r": {
     "delete_cmd_postfix": ") ",
     "delete_cmd_prefix": "rm(",
     "library": "var_list.r",
     "varRefreshCmd": "cat(var_dic_list()) "
    }
   },
   "types_to_exclude": [
    "module",
    "function",
    "builtin_function_or_method",
    "instance",
    "_Feature"
   ],
   "window_display": false
  }
 },
 "nbformat": 4,
 "nbformat_minor": 2
}
